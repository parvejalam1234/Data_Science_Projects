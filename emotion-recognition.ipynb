{
 "cells": [
  {
   "cell_type": "code",
   "execution_count": 1,
   "id": "317a6cac",
   "metadata": {
    "execution": {
     "iopub.execute_input": "2024-05-25T08:30:48.510163Z",
     "iopub.status.busy": "2024-05-25T08:30:48.509350Z",
     "iopub.status.idle": "2024-05-25T08:30:49.782878Z",
     "shell.execute_reply": "2024-05-25T08:30:49.782030Z"
    },
    "papermill": {
     "duration": 1.28487,
     "end_time": "2024-05-25T08:30:49.785241",
     "exception": false,
     "start_time": "2024-05-25T08:30:48.500371",
     "status": "completed"
    },
    "tags": []
   },
   "outputs": [],
   "source": [
    "import os\n",
    "import cv2\n",
    "import numpy as np\n",
    "from sklearn.model_selection import train_test_split"
   ]
  },
  {
   "cell_type": "code",
   "execution_count": 2,
   "id": "99ffaa9d",
   "metadata": {
    "execution": {
     "iopub.execute_input": "2024-05-25T08:30:49.801152Z",
     "iopub.status.busy": "2024-05-25T08:30:49.800639Z",
     "iopub.status.idle": "2024-05-25T08:30:49.805059Z",
     "shell.execute_reply": "2024-05-25T08:30:49.804163Z"
    },
    "papermill": {
     "duration": 0.014443,
     "end_time": "2024-05-25T08:30:49.807073",
     "exception": false,
     "start_time": "2024-05-25T08:30:49.792630",
     "status": "completed"
    },
    "tags": []
   },
   "outputs": [],
   "source": [
    "base_dir = '/kaggle/input/emotion-recognition-dataset/dataset'\n",
    "categories = ['Ahegao', 'Angry', 'Happy', 'Neutral', 'Sad', 'Surprise']"
   ]
  },
  {
   "cell_type": "code",
   "execution_count": 3,
   "id": "e3355662",
   "metadata": {
    "execution": {
     "iopub.execute_input": "2024-05-25T08:30:49.822293Z",
     "iopub.status.busy": "2024-05-25T08:30:49.822005Z",
     "iopub.status.idle": "2024-05-25T08:30:49.825796Z",
     "shell.execute_reply": "2024-05-25T08:30:49.824973Z"
    },
    "papermill": {
     "duration": 0.013743,
     "end_time": "2024-05-25T08:30:49.827823",
     "exception": false,
     "start_time": "2024-05-25T08:30:49.814080",
     "status": "completed"
    },
    "tags": []
   },
   "outputs": [],
   "source": [
    "data = []\n",
    "labels = []"
   ]
  },
  {
   "cell_type": "code",
   "execution_count": 4,
   "id": "0d7ac25c",
   "metadata": {
    "execution": {
     "iopub.execute_input": "2024-05-25T08:30:49.843737Z",
     "iopub.status.busy": "2024-05-25T08:30:49.842856Z",
     "iopub.status.idle": "2024-05-25T08:33:42.777848Z",
     "shell.execute_reply": "2024-05-25T08:33:42.776801Z"
    },
    "papermill": {
     "duration": 172.945459,
     "end_time": "2024-05-25T08:33:42.780380",
     "exception": false,
     "start_time": "2024-05-25T08:30:49.834921",
     "status": "completed"
    },
    "tags": []
   },
   "outputs": [],
   "source": [
    "for category in categories:\n",
    "    folder_path = os.path.join(base_dir, category)\n",
    "    for img in os.listdir(folder_path):\n",
    "        img_path = os.path.join(folder_path, img)\n",
    "        image = cv2.imread(img_path, cv2.IMREAD_GRAYSCALE)\n",
    "        image = cv2.resize(image, (64, 64))\n",
    "        data.append(image)\n",
    "        labels.append(categories.index(category))"
   ]
  },
  {
   "cell_type": "code",
   "execution_count": 5,
   "id": "d12093a1",
   "metadata": {
    "execution": {
     "iopub.execute_input": "2024-05-25T08:33:42.796416Z",
     "iopub.status.busy": "2024-05-25T08:33:42.795796Z",
     "iopub.status.idle": "2024-05-25T08:33:42.989293Z",
     "shell.execute_reply": "2024-05-25T08:33:42.988420Z"
    },
    "papermill": {
     "duration": 0.203993,
     "end_time": "2024-05-25T08:33:42.991669",
     "exception": false,
     "start_time": "2024-05-25T08:33:42.787676",
     "status": "completed"
    },
    "tags": []
   },
   "outputs": [],
   "source": [
    "data = np.array(data).reshape(-1, 64, 64, 1)/255.0\n",
    "labels = np.array(labels)"
   ]
  },
  {
   "cell_type": "code",
   "execution_count": 6,
   "id": "c7e4cd3e",
   "metadata": {
    "execution": {
     "iopub.execute_input": "2024-05-25T08:33:43.007977Z",
     "iopub.status.busy": "2024-05-25T08:33:43.007668Z",
     "iopub.status.idle": "2024-05-25T08:33:43.168588Z",
     "shell.execute_reply": "2024-05-25T08:33:43.167355Z"
    },
    "papermill": {
     "duration": 0.172223,
     "end_time": "2024-05-25T08:33:43.171457",
     "exception": false,
     "start_time": "2024-05-25T08:33:42.999234",
     "status": "completed"
    },
    "tags": []
   },
   "outputs": [],
   "source": [
    "x_train, x_test, y_train, y_test = train_test_split(data, labels, test_size = 0.2, random_state = 1)"
   ]
  },
  {
   "cell_type": "code",
   "execution_count": 7,
   "id": "78c9ee20",
   "metadata": {
    "execution": {
     "iopub.execute_input": "2024-05-25T08:33:43.192489Z",
     "iopub.status.busy": "2024-05-25T08:33:43.192108Z",
     "iopub.status.idle": "2024-05-25T08:33:55.259947Z",
     "shell.execute_reply": "2024-05-25T08:33:55.258988Z"
    },
    "papermill": {
     "duration": 12.079952,
     "end_time": "2024-05-25T08:33:55.262368",
     "exception": false,
     "start_time": "2024-05-25T08:33:43.182416",
     "status": "completed"
    },
    "tags": []
   },
   "outputs": [
    {
     "name": "stderr",
     "output_type": "stream",
     "text": [
      "2024-05-25 08:33:44.977961: E external/local_xla/xla/stream_executor/cuda/cuda_dnn.cc:9261] Unable to register cuDNN factory: Attempting to register factory for plugin cuDNN when one has already been registered\n",
      "2024-05-25 08:33:44.978077: E external/local_xla/xla/stream_executor/cuda/cuda_fft.cc:607] Unable to register cuFFT factory: Attempting to register factory for plugin cuFFT when one has already been registered\n",
      "2024-05-25 08:33:45.103603: E external/local_xla/xla/stream_executor/cuda/cuda_blas.cc:1515] Unable to register cuBLAS factory: Attempting to register factory for plugin cuBLAS when one has already been registered\n"
     ]
    }
   ],
   "source": [
    "import tensorflow as tf"
   ]
  },
  {
   "cell_type": "code",
   "execution_count": 8,
   "id": "363d45be",
   "metadata": {
    "execution": {
     "iopub.execute_input": "2024-05-25T08:33:55.279216Z",
     "iopub.status.busy": "2024-05-25T08:33:55.278699Z",
     "iopub.status.idle": "2024-05-25T08:33:55.282767Z",
     "shell.execute_reply": "2024-05-25T08:33:55.282017Z"
    },
    "papermill": {
     "duration": 0.013842,
     "end_time": "2024-05-25T08:33:55.284617",
     "exception": false,
     "start_time": "2024-05-25T08:33:55.270775",
     "status": "completed"
    },
    "tags": []
   },
   "outputs": [],
   "source": [
    "# !pip install tensorflow"
   ]
  },
  {
   "cell_type": "code",
   "execution_count": 9,
   "id": "d2c3f682",
   "metadata": {
    "execution": {
     "iopub.execute_input": "2024-05-25T08:33:55.299874Z",
     "iopub.status.busy": "2024-05-25T08:33:55.299573Z",
     "iopub.status.idle": "2024-05-25T08:33:55.304510Z",
     "shell.execute_reply": "2024-05-25T08:33:55.303834Z"
    },
    "papermill": {
     "duration": 0.014501,
     "end_time": "2024-05-25T08:33:55.306344",
     "exception": false,
     "start_time": "2024-05-25T08:33:55.291843",
     "status": "completed"
    },
    "tags": []
   },
   "outputs": [],
   "source": [
    "from tensorflow.keras.preprocessing.image import ImageDataGenerator"
   ]
  },
  {
   "cell_type": "code",
   "execution_count": 10,
   "id": "912f5cc6",
   "metadata": {
    "execution": {
     "iopub.execute_input": "2024-05-25T08:33:55.321237Z",
     "iopub.status.busy": "2024-05-25T08:33:55.320928Z",
     "iopub.status.idle": "2024-05-25T08:33:55.325371Z",
     "shell.execute_reply": "2024-05-25T08:33:55.324679Z"
    },
    "papermill": {
     "duration": 0.013909,
     "end_time": "2024-05-25T08:33:55.327223",
     "exception": false,
     "start_time": "2024-05-25T08:33:55.313314",
     "status": "completed"
    },
    "tags": []
   },
   "outputs": [],
   "source": [
    "datagen = ImageDataGenerator(\n",
    "    rotation_range=10,\n",
    "    width_shift_range=0.1,\n",
    "    height_shift_range=0.1,\n",
    "    shear_range=0.1,\n",
    "    zoom_range=0.1,\n",
    "    horizontal_flip=True,\n",
    "    fill_mode='nearest'\n",
    ")"
   ]
  },
  {
   "cell_type": "code",
   "execution_count": 11,
   "id": "9d6eb9fb",
   "metadata": {
    "execution": {
     "iopub.execute_input": "2024-05-25T08:33:55.341914Z",
     "iopub.status.busy": "2024-05-25T08:33:55.341659Z",
     "iopub.status.idle": "2024-05-25T08:33:55.492290Z",
     "shell.execute_reply": "2024-05-25T08:33:55.491517Z"
    },
    "papermill": {
     "duration": 0.160333,
     "end_time": "2024-05-25T08:33:55.494466",
     "exception": false,
     "start_time": "2024-05-25T08:33:55.334133",
     "status": "completed"
    },
    "tags": []
   },
   "outputs": [],
   "source": [
    "datagen.fit(x_train)"
   ]
  },
  {
   "cell_type": "code",
   "execution_count": 12,
   "id": "f84163e6",
   "metadata": {
    "execution": {
     "iopub.execute_input": "2024-05-25T08:33:55.509909Z",
     "iopub.status.busy": "2024-05-25T08:33:55.509621Z",
     "iopub.status.idle": "2024-05-25T08:33:55.551730Z",
     "shell.execute_reply": "2024-05-25T08:33:55.550908Z"
    },
    "papermill": {
     "duration": 0.052252,
     "end_time": "2024-05-25T08:33:55.553928",
     "exception": false,
     "start_time": "2024-05-25T08:33:55.501676",
     "status": "completed"
    },
    "tags": []
   },
   "outputs": [],
   "source": [
    "datagen.fit(x_test)"
   ]
  },
  {
   "cell_type": "code",
   "execution_count": 13,
   "id": "1697c173",
   "metadata": {
    "execution": {
     "iopub.execute_input": "2024-05-25T08:33:55.570053Z",
     "iopub.status.busy": "2024-05-25T08:33:55.569075Z",
     "iopub.status.idle": "2024-05-25T08:33:55.573000Z",
     "shell.execute_reply": "2024-05-25T08:33:55.572331Z"
    },
    "papermill": {
     "duration": 0.013702,
     "end_time": "2024-05-25T08:33:55.574908",
     "exception": false,
     "start_time": "2024-05-25T08:33:55.561206",
     "status": "completed"
    },
    "tags": []
   },
   "outputs": [],
   "source": [
    "# x_test"
   ]
  },
  {
   "cell_type": "code",
   "execution_count": 14,
   "id": "ef7a6ac4",
   "metadata": {
    "execution": {
     "iopub.execute_input": "2024-05-25T08:33:55.589772Z",
     "iopub.status.busy": "2024-05-25T08:33:55.589503Z",
     "iopub.status.idle": "2024-05-25T08:33:55.597373Z",
     "shell.execute_reply": "2024-05-25T08:33:55.596565Z"
    },
    "papermill": {
     "duration": 0.017397,
     "end_time": "2024-05-25T08:33:55.599221",
     "exception": false,
     "start_time": "2024-05-25T08:33:55.581824",
     "status": "completed"
    },
    "tags": []
   },
   "outputs": [],
   "source": [
    "cnn = tf.keras.models.Sequential()"
   ]
  },
  {
   "cell_type": "code",
   "execution_count": 15,
   "id": "c5db7fb9",
   "metadata": {
    "execution": {
     "iopub.execute_input": "2024-05-25T08:33:55.614209Z",
     "iopub.status.busy": "2024-05-25T08:33:55.613956Z",
     "iopub.status.idle": "2024-05-25T08:33:56.318735Z",
     "shell.execute_reply": "2024-05-25T08:33:56.317967Z"
    },
    "papermill": {
     "duration": 0.714527,
     "end_time": "2024-05-25T08:33:56.320758",
     "exception": false,
     "start_time": "2024-05-25T08:33:55.606231",
     "status": "completed"
    },
    "tags": []
   },
   "outputs": [
    {
     "name": "stderr",
     "output_type": "stream",
     "text": [
      "/opt/conda/lib/python3.10/site-packages/keras/src/layers/convolutional/base_conv.py:99: UserWarning: Do not pass an `input_shape`/`input_dim` argument to a layer. When using Sequential models, prefer using an `Input(shape)` object as the first layer in the model instead.\n",
      "  super().__init__(\n"
     ]
    }
   ],
   "source": [
    "cnn.add(tf.keras.layers.Conv2D(filters = 32, kernel_size = 3, activation = 'relu', input_shape = (64, 64, 1)))\n",
    "cnn.add(tf.keras.layers.MaxPool2D((2, 2)))\n",
    "cnn.add(tf.keras.layers.Dropout(0.25))"
   ]
  },
  {
   "cell_type": "code",
   "execution_count": 16,
   "id": "ef5b8b2b",
   "metadata": {
    "execution": {
     "iopub.execute_input": "2024-05-25T08:33:56.336618Z",
     "iopub.status.busy": "2024-05-25T08:33:56.336317Z",
     "iopub.status.idle": "2024-05-25T08:33:56.365433Z",
     "shell.execute_reply": "2024-05-25T08:33:56.364780Z"
    },
    "papermill": {
     "duration": 0.038883,
     "end_time": "2024-05-25T08:33:56.367237",
     "exception": false,
     "start_time": "2024-05-25T08:33:56.328354",
     "status": "completed"
    },
    "tags": []
   },
   "outputs": [],
   "source": [
    "cnn.add(tf.keras.layers.Conv2D(filters = 64, kernel_size = 3, activation = 'relu', input_shape = (64, 64, 1)))\n",
    "cnn.add(tf.keras.layers.MaxPool2D((2, 2)))\n",
    "cnn.add(tf.keras.layers.Dropout(0.25))"
   ]
  },
  {
   "cell_type": "code",
   "execution_count": 17,
   "id": "1f4b9b47",
   "metadata": {
    "execution": {
     "iopub.execute_input": "2024-05-25T08:33:56.382270Z",
     "iopub.status.busy": "2024-05-25T08:33:56.382003Z",
     "iopub.status.idle": "2024-05-25T08:33:56.414812Z",
     "shell.execute_reply": "2024-05-25T08:33:56.414137Z"
    },
    "papermill": {
     "duration": 0.042312,
     "end_time": "2024-05-25T08:33:56.416606",
     "exception": false,
     "start_time": "2024-05-25T08:33:56.374294",
     "status": "completed"
    },
    "tags": []
   },
   "outputs": [],
   "source": [
    "cnn.add(tf.keras.layers.Conv2D(filters = 128, kernel_size = 3, activation = 'relu', input_shape = (64, 64, 1)))\n",
    "cnn.add(tf.keras.layers.MaxPool2D((2, 2)))\n",
    "cnn.add(tf.keras.layers.Dropout(0.25))"
   ]
  },
  {
   "cell_type": "code",
   "execution_count": 18,
   "id": "2ff992c9",
   "metadata": {
    "execution": {
     "iopub.execute_input": "2024-05-25T08:33:56.431412Z",
     "iopub.status.busy": "2024-05-25T08:33:56.431131Z",
     "iopub.status.idle": "2024-05-25T08:33:56.483690Z",
     "shell.execute_reply": "2024-05-25T08:33:56.483014Z"
    },
    "papermill": {
     "duration": 0.061973,
     "end_time": "2024-05-25T08:33:56.485471",
     "exception": false,
     "start_time": "2024-05-25T08:33:56.423498",
     "status": "completed"
    },
    "tags": []
   },
   "outputs": [],
   "source": [
    "cnn.add(tf.keras.layers.Flatten())\n",
    "cnn.add(tf.keras.layers.Dense(units = 120, activation = 'relu'))\n",
    "cnn.add(tf.keras.layers.Dropout(0.5))\n",
    "cnn.add(tf.keras.layers.Dense(units = 6, activation = 'softmax'))"
   ]
  },
  {
   "cell_type": "code",
   "execution_count": 19,
   "id": "0a261c0c",
   "metadata": {
    "execution": {
     "iopub.execute_input": "2024-05-25T08:33:56.500412Z",
     "iopub.status.busy": "2024-05-25T08:33:56.500137Z",
     "iopub.status.idle": "2024-05-25T08:33:56.511961Z",
     "shell.execute_reply": "2024-05-25T08:33:56.511310Z"
    },
    "papermill": {
     "duration": 0.021291,
     "end_time": "2024-05-25T08:33:56.513775",
     "exception": false,
     "start_time": "2024-05-25T08:33:56.492484",
     "status": "completed"
    },
    "tags": []
   },
   "outputs": [],
   "source": [
    "cnn.compile(optimizer='adam', loss='sparse_categorical_crossentropy', metrics=['accuracy'])"
   ]
  },
  {
   "cell_type": "code",
   "execution_count": 20,
   "id": "467d506d",
   "metadata": {
    "execution": {
     "iopub.execute_input": "2024-05-25T08:33:56.528836Z",
     "iopub.status.busy": "2024-05-25T08:33:56.528576Z",
     "iopub.status.idle": "2024-05-25T08:33:56.554838Z",
     "shell.execute_reply": "2024-05-25T08:33:56.553987Z"
    },
    "papermill": {
     "duration": 0.036075,
     "end_time": "2024-05-25T08:33:56.556717",
     "exception": false,
     "start_time": "2024-05-25T08:33:56.520642",
     "status": "completed"
    },
    "tags": []
   },
   "outputs": [
    {
     "data": {
      "text/html": [
       "<pre style=\"white-space:pre;overflow-x:auto;line-height:normal;font-family:Menlo,'DejaVu Sans Mono',consolas,'Courier New',monospace\"><span style=\"font-weight: bold\">Model: \"sequential\"</span>\n",
       "</pre>\n"
      ],
      "text/plain": [
       "\u001b[1mModel: \"sequential\"\u001b[0m\n"
      ]
     },
     "metadata": {},
     "output_type": "display_data"
    },
    {
     "data": {
      "text/html": [
       "<pre style=\"white-space:pre;overflow-x:auto;line-height:normal;font-family:Menlo,'DejaVu Sans Mono',consolas,'Courier New',monospace\">┏━━━━━━━━━━━━━━━━━━━━━━━━━━━━━━━━━┳━━━━━━━━━━━━━━━━━━━━━━━━┳━━━━━━━━━━━━━━━┓\n",
       "┃<span style=\"font-weight: bold\"> Layer (type)                    </span>┃<span style=\"font-weight: bold\"> Output Shape           </span>┃<span style=\"font-weight: bold\">       Param # </span>┃\n",
       "┡━━━━━━━━━━━━━━━━━━━━━━━━━━━━━━━━━╇━━━━━━━━━━━━━━━━━━━━━━━━╇━━━━━━━━━━━━━━━┩\n",
       "│ conv2d (<span style=\"color: #0087ff; text-decoration-color: #0087ff\">Conv2D</span>)                 │ (<span style=\"color: #00d7ff; text-decoration-color: #00d7ff\">None</span>, <span style=\"color: #00af00; text-decoration-color: #00af00\">62</span>, <span style=\"color: #00af00; text-decoration-color: #00af00\">62</span>, <span style=\"color: #00af00; text-decoration-color: #00af00\">32</span>)     │           <span style=\"color: #00af00; text-decoration-color: #00af00\">320</span> │\n",
       "├─────────────────────────────────┼────────────────────────┼───────────────┤\n",
       "│ max_pooling2d (<span style=\"color: #0087ff; text-decoration-color: #0087ff\">MaxPooling2D</span>)    │ (<span style=\"color: #00d7ff; text-decoration-color: #00d7ff\">None</span>, <span style=\"color: #00af00; text-decoration-color: #00af00\">31</span>, <span style=\"color: #00af00; text-decoration-color: #00af00\">31</span>, <span style=\"color: #00af00; text-decoration-color: #00af00\">32</span>)     │             <span style=\"color: #00af00; text-decoration-color: #00af00\">0</span> │\n",
       "├─────────────────────────────────┼────────────────────────┼───────────────┤\n",
       "│ dropout (<span style=\"color: #0087ff; text-decoration-color: #0087ff\">Dropout</span>)               │ (<span style=\"color: #00d7ff; text-decoration-color: #00d7ff\">None</span>, <span style=\"color: #00af00; text-decoration-color: #00af00\">31</span>, <span style=\"color: #00af00; text-decoration-color: #00af00\">31</span>, <span style=\"color: #00af00; text-decoration-color: #00af00\">32</span>)     │             <span style=\"color: #00af00; text-decoration-color: #00af00\">0</span> │\n",
       "├─────────────────────────────────┼────────────────────────┼───────────────┤\n",
       "│ conv2d_1 (<span style=\"color: #0087ff; text-decoration-color: #0087ff\">Conv2D</span>)               │ (<span style=\"color: #00d7ff; text-decoration-color: #00d7ff\">None</span>, <span style=\"color: #00af00; text-decoration-color: #00af00\">29</span>, <span style=\"color: #00af00; text-decoration-color: #00af00\">29</span>, <span style=\"color: #00af00; text-decoration-color: #00af00\">64</span>)     │        <span style=\"color: #00af00; text-decoration-color: #00af00\">18,496</span> │\n",
       "├─────────────────────────────────┼────────────────────────┼───────────────┤\n",
       "│ max_pooling2d_1 (<span style=\"color: #0087ff; text-decoration-color: #0087ff\">MaxPooling2D</span>)  │ (<span style=\"color: #00d7ff; text-decoration-color: #00d7ff\">None</span>, <span style=\"color: #00af00; text-decoration-color: #00af00\">14</span>, <span style=\"color: #00af00; text-decoration-color: #00af00\">14</span>, <span style=\"color: #00af00; text-decoration-color: #00af00\">64</span>)     │             <span style=\"color: #00af00; text-decoration-color: #00af00\">0</span> │\n",
       "├─────────────────────────────────┼────────────────────────┼───────────────┤\n",
       "│ dropout_1 (<span style=\"color: #0087ff; text-decoration-color: #0087ff\">Dropout</span>)             │ (<span style=\"color: #00d7ff; text-decoration-color: #00d7ff\">None</span>, <span style=\"color: #00af00; text-decoration-color: #00af00\">14</span>, <span style=\"color: #00af00; text-decoration-color: #00af00\">14</span>, <span style=\"color: #00af00; text-decoration-color: #00af00\">64</span>)     │             <span style=\"color: #00af00; text-decoration-color: #00af00\">0</span> │\n",
       "├─────────────────────────────────┼────────────────────────┼───────────────┤\n",
       "│ conv2d_2 (<span style=\"color: #0087ff; text-decoration-color: #0087ff\">Conv2D</span>)               │ (<span style=\"color: #00d7ff; text-decoration-color: #00d7ff\">None</span>, <span style=\"color: #00af00; text-decoration-color: #00af00\">12</span>, <span style=\"color: #00af00; text-decoration-color: #00af00\">12</span>, <span style=\"color: #00af00; text-decoration-color: #00af00\">128</span>)    │        <span style=\"color: #00af00; text-decoration-color: #00af00\">73,856</span> │\n",
       "├─────────────────────────────────┼────────────────────────┼───────────────┤\n",
       "│ max_pooling2d_2 (<span style=\"color: #0087ff; text-decoration-color: #0087ff\">MaxPooling2D</span>)  │ (<span style=\"color: #00d7ff; text-decoration-color: #00d7ff\">None</span>, <span style=\"color: #00af00; text-decoration-color: #00af00\">6</span>, <span style=\"color: #00af00; text-decoration-color: #00af00\">6</span>, <span style=\"color: #00af00; text-decoration-color: #00af00\">128</span>)      │             <span style=\"color: #00af00; text-decoration-color: #00af00\">0</span> │\n",
       "├─────────────────────────────────┼────────────────────────┼───────────────┤\n",
       "│ dropout_2 (<span style=\"color: #0087ff; text-decoration-color: #0087ff\">Dropout</span>)             │ (<span style=\"color: #00d7ff; text-decoration-color: #00d7ff\">None</span>, <span style=\"color: #00af00; text-decoration-color: #00af00\">6</span>, <span style=\"color: #00af00; text-decoration-color: #00af00\">6</span>, <span style=\"color: #00af00; text-decoration-color: #00af00\">128</span>)      │             <span style=\"color: #00af00; text-decoration-color: #00af00\">0</span> │\n",
       "├─────────────────────────────────┼────────────────────────┼───────────────┤\n",
       "│ flatten (<span style=\"color: #0087ff; text-decoration-color: #0087ff\">Flatten</span>)               │ (<span style=\"color: #00d7ff; text-decoration-color: #00d7ff\">None</span>, <span style=\"color: #00af00; text-decoration-color: #00af00\">4608</span>)           │             <span style=\"color: #00af00; text-decoration-color: #00af00\">0</span> │\n",
       "├─────────────────────────────────┼────────────────────────┼───────────────┤\n",
       "│ dense (<span style=\"color: #0087ff; text-decoration-color: #0087ff\">Dense</span>)                   │ (<span style=\"color: #00d7ff; text-decoration-color: #00d7ff\">None</span>, <span style=\"color: #00af00; text-decoration-color: #00af00\">120</span>)            │       <span style=\"color: #00af00; text-decoration-color: #00af00\">553,080</span> │\n",
       "├─────────────────────────────────┼────────────────────────┼───────────────┤\n",
       "│ dropout_3 (<span style=\"color: #0087ff; text-decoration-color: #0087ff\">Dropout</span>)             │ (<span style=\"color: #00d7ff; text-decoration-color: #00d7ff\">None</span>, <span style=\"color: #00af00; text-decoration-color: #00af00\">120</span>)            │             <span style=\"color: #00af00; text-decoration-color: #00af00\">0</span> │\n",
       "├─────────────────────────────────┼────────────────────────┼───────────────┤\n",
       "│ dense_1 (<span style=\"color: #0087ff; text-decoration-color: #0087ff\">Dense</span>)                 │ (<span style=\"color: #00d7ff; text-decoration-color: #00d7ff\">None</span>, <span style=\"color: #00af00; text-decoration-color: #00af00\">6</span>)              │           <span style=\"color: #00af00; text-decoration-color: #00af00\">726</span> │\n",
       "└─────────────────────────────────┴────────────────────────┴───────────────┘\n",
       "</pre>\n"
      ],
      "text/plain": [
       "┏━━━━━━━━━━━━━━━━━━━━━━━━━━━━━━━━━┳━━━━━━━━━━━━━━━━━━━━━━━━┳━━━━━━━━━━━━━━━┓\n",
       "┃\u001b[1m \u001b[0m\u001b[1mLayer (type)                   \u001b[0m\u001b[1m \u001b[0m┃\u001b[1m \u001b[0m\u001b[1mOutput Shape          \u001b[0m\u001b[1m \u001b[0m┃\u001b[1m \u001b[0m\u001b[1m      Param #\u001b[0m\u001b[1m \u001b[0m┃\n",
       "┡━━━━━━━━━━━━━━━━━━━━━━━━━━━━━━━━━╇━━━━━━━━━━━━━━━━━━━━━━━━╇━━━━━━━━━━━━━━━┩\n",
       "│ conv2d (\u001b[38;5;33mConv2D\u001b[0m)                 │ (\u001b[38;5;45mNone\u001b[0m, \u001b[38;5;34m62\u001b[0m, \u001b[38;5;34m62\u001b[0m, \u001b[38;5;34m32\u001b[0m)     │           \u001b[38;5;34m320\u001b[0m │\n",
       "├─────────────────────────────────┼────────────────────────┼───────────────┤\n",
       "│ max_pooling2d (\u001b[38;5;33mMaxPooling2D\u001b[0m)    │ (\u001b[38;5;45mNone\u001b[0m, \u001b[38;5;34m31\u001b[0m, \u001b[38;5;34m31\u001b[0m, \u001b[38;5;34m32\u001b[0m)     │             \u001b[38;5;34m0\u001b[0m │\n",
       "├─────────────────────────────────┼────────────────────────┼───────────────┤\n",
       "│ dropout (\u001b[38;5;33mDropout\u001b[0m)               │ (\u001b[38;5;45mNone\u001b[0m, \u001b[38;5;34m31\u001b[0m, \u001b[38;5;34m31\u001b[0m, \u001b[38;5;34m32\u001b[0m)     │             \u001b[38;5;34m0\u001b[0m │\n",
       "├─────────────────────────────────┼────────────────────────┼───────────────┤\n",
       "│ conv2d_1 (\u001b[38;5;33mConv2D\u001b[0m)               │ (\u001b[38;5;45mNone\u001b[0m, \u001b[38;5;34m29\u001b[0m, \u001b[38;5;34m29\u001b[0m, \u001b[38;5;34m64\u001b[0m)     │        \u001b[38;5;34m18,496\u001b[0m │\n",
       "├─────────────────────────────────┼────────────────────────┼───────────────┤\n",
       "│ max_pooling2d_1 (\u001b[38;5;33mMaxPooling2D\u001b[0m)  │ (\u001b[38;5;45mNone\u001b[0m, \u001b[38;5;34m14\u001b[0m, \u001b[38;5;34m14\u001b[0m, \u001b[38;5;34m64\u001b[0m)     │             \u001b[38;5;34m0\u001b[0m │\n",
       "├─────────────────────────────────┼────────────────────────┼───────────────┤\n",
       "│ dropout_1 (\u001b[38;5;33mDropout\u001b[0m)             │ (\u001b[38;5;45mNone\u001b[0m, \u001b[38;5;34m14\u001b[0m, \u001b[38;5;34m14\u001b[0m, \u001b[38;5;34m64\u001b[0m)     │             \u001b[38;5;34m0\u001b[0m │\n",
       "├─────────────────────────────────┼────────────────────────┼───────────────┤\n",
       "│ conv2d_2 (\u001b[38;5;33mConv2D\u001b[0m)               │ (\u001b[38;5;45mNone\u001b[0m, \u001b[38;5;34m12\u001b[0m, \u001b[38;5;34m12\u001b[0m, \u001b[38;5;34m128\u001b[0m)    │        \u001b[38;5;34m73,856\u001b[0m │\n",
       "├─────────────────────────────────┼────────────────────────┼───────────────┤\n",
       "│ max_pooling2d_2 (\u001b[38;5;33mMaxPooling2D\u001b[0m)  │ (\u001b[38;5;45mNone\u001b[0m, \u001b[38;5;34m6\u001b[0m, \u001b[38;5;34m6\u001b[0m, \u001b[38;5;34m128\u001b[0m)      │             \u001b[38;5;34m0\u001b[0m │\n",
       "├─────────────────────────────────┼────────────────────────┼───────────────┤\n",
       "│ dropout_2 (\u001b[38;5;33mDropout\u001b[0m)             │ (\u001b[38;5;45mNone\u001b[0m, \u001b[38;5;34m6\u001b[0m, \u001b[38;5;34m6\u001b[0m, \u001b[38;5;34m128\u001b[0m)      │             \u001b[38;5;34m0\u001b[0m │\n",
       "├─────────────────────────────────┼────────────────────────┼───────────────┤\n",
       "│ flatten (\u001b[38;5;33mFlatten\u001b[0m)               │ (\u001b[38;5;45mNone\u001b[0m, \u001b[38;5;34m4608\u001b[0m)           │             \u001b[38;5;34m0\u001b[0m │\n",
       "├─────────────────────────────────┼────────────────────────┼───────────────┤\n",
       "│ dense (\u001b[38;5;33mDense\u001b[0m)                   │ (\u001b[38;5;45mNone\u001b[0m, \u001b[38;5;34m120\u001b[0m)            │       \u001b[38;5;34m553,080\u001b[0m │\n",
       "├─────────────────────────────────┼────────────────────────┼───────────────┤\n",
       "│ dropout_3 (\u001b[38;5;33mDropout\u001b[0m)             │ (\u001b[38;5;45mNone\u001b[0m, \u001b[38;5;34m120\u001b[0m)            │             \u001b[38;5;34m0\u001b[0m │\n",
       "├─────────────────────────────────┼────────────────────────┼───────────────┤\n",
       "│ dense_1 (\u001b[38;5;33mDense\u001b[0m)                 │ (\u001b[38;5;45mNone\u001b[0m, \u001b[38;5;34m6\u001b[0m)              │           \u001b[38;5;34m726\u001b[0m │\n",
       "└─────────────────────────────────┴────────────────────────┴───────────────┘\n"
      ]
     },
     "metadata": {},
     "output_type": "display_data"
    },
    {
     "data": {
      "text/html": [
       "<pre style=\"white-space:pre;overflow-x:auto;line-height:normal;font-family:Menlo,'DejaVu Sans Mono',consolas,'Courier New',monospace\"><span style=\"font-weight: bold\"> Total params: </span><span style=\"color: #00af00; text-decoration-color: #00af00\">646,478</span> (2.47 MB)\n",
       "</pre>\n"
      ],
      "text/plain": [
       "\u001b[1m Total params: \u001b[0m\u001b[38;5;34m646,478\u001b[0m (2.47 MB)\n"
      ]
     },
     "metadata": {},
     "output_type": "display_data"
    },
    {
     "data": {
      "text/html": [
       "<pre style=\"white-space:pre;overflow-x:auto;line-height:normal;font-family:Menlo,'DejaVu Sans Mono',consolas,'Courier New',monospace\"><span style=\"font-weight: bold\"> Trainable params: </span><span style=\"color: #00af00; text-decoration-color: #00af00\">646,478</span> (2.47 MB)\n",
       "</pre>\n"
      ],
      "text/plain": [
       "\u001b[1m Trainable params: \u001b[0m\u001b[38;5;34m646,478\u001b[0m (2.47 MB)\n"
      ]
     },
     "metadata": {},
     "output_type": "display_data"
    },
    {
     "data": {
      "text/html": [
       "<pre style=\"white-space:pre;overflow-x:auto;line-height:normal;font-family:Menlo,'DejaVu Sans Mono',consolas,'Courier New',monospace\"><span style=\"font-weight: bold\"> Non-trainable params: </span><span style=\"color: #00af00; text-decoration-color: #00af00\">0</span> (0.00 B)\n",
       "</pre>\n"
      ],
      "text/plain": [
       "\u001b[1m Non-trainable params: \u001b[0m\u001b[38;5;34m0\u001b[0m (0.00 B)\n"
      ]
     },
     "metadata": {},
     "output_type": "display_data"
    }
   ],
   "source": [
    "cnn.summary()"
   ]
  },
  {
   "cell_type": "code",
   "execution_count": 21,
   "id": "aacc8722",
   "metadata": {
    "execution": {
     "iopub.execute_input": "2024-05-25T08:33:56.573853Z",
     "iopub.status.busy": "2024-05-25T08:33:56.573175Z",
     "iopub.status.idle": "2024-05-25T08:34:26.559479Z",
     "shell.execute_reply": "2024-05-25T08:34:26.558642Z"
    },
    "papermill": {
     "duration": 29.996999,
     "end_time": "2024-05-25T08:34:26.561585",
     "exception": false,
     "start_time": "2024-05-25T08:33:56.564586",
     "status": "completed"
    },
    "tags": []
   },
   "outputs": [
    {
     "name": "stdout",
     "output_type": "stream",
     "text": [
      "Epoch 1/10\n"
     ]
    },
    {
     "name": "stderr",
     "output_type": "stream",
     "text": [
      "2024-05-25 08:34:01.860142: E external/local_xla/xla/service/gpu/buffer_comparator.cc:1137] Difference at 3844: 3.50622, expected 2.90338\n",
      "2024-05-25 08:34:01.860189: E external/local_xla/xla/service/gpu/buffer_comparator.cc:1137] Difference at 3845: 2.89383, expected 2.29098\n",
      "2024-05-25 08:34:01.860198: E external/local_xla/xla/service/gpu/buffer_comparator.cc:1137] Difference at 3846: 2.45266, expected 1.84981\n",
      "2024-05-25 08:34:01.860207: E external/local_xla/xla/service/gpu/buffer_comparator.cc:1137] Difference at 3847: 3.22924, expected 2.6264\n",
      "2024-05-25 08:34:01.860215: E external/local_xla/xla/service/gpu/buffer_comparator.cc:1137] Difference at 3848: 3.88833, expected 3.28549\n",
      "2024-05-25 08:34:01.860223: E external/local_xla/xla/service/gpu/buffer_comparator.cc:1137] Difference at 3849: 4.2225, expected 3.61966\n",
      "2024-05-25 08:34:01.860231: E external/local_xla/xla/service/gpu/buffer_comparator.cc:1137] Difference at 3850: 3.66357, expected 3.06072\n",
      "2024-05-25 08:34:01.860240: E external/local_xla/xla/service/gpu/buffer_comparator.cc:1137] Difference at 3851: 2.65074, expected 2.0479\n",
      "2024-05-25 08:34:01.860248: E external/local_xla/xla/service/gpu/buffer_comparator.cc:1137] Difference at 3852: 2.06911, expected 1.46627\n",
      "2024-05-25 08:34:01.860256: E external/local_xla/xla/service/gpu/buffer_comparator.cc:1137] Difference at 3853: 2.85866, expected 2.25581\n",
      "2024-05-25 08:34:01.861127: E external/local_xla/xla/service/gpu/conv_algorithm_picker.cc:705] Results mismatch between different convolution algorithms. This is likely a bug/unexpected loss of precision in cudnn.\n",
      "(f32[32,32,62,62]{3,2,1,0}, u8[0]{0}) custom-call(f32[32,1,64,64]{3,2,1,0}, f32[32,1,3,3]{3,2,1,0}, f32[32]{0}), window={size=3x3}, dim_labels=bf01_oi01->bf01, custom_call_target=\"__cudnn$convBiasActivationForward\", backend_config={\"conv_result_scale\":1,\"activation_mode\":\"kRelu\",\"side_input_scale\":0,\"leakyrelu_alpha\":0} for eng20{k2=2,k4=1,k5=1,k6=0,k7=0} vs eng15{k5=1,k6=0,k7=1,k10=1}\n",
      "2024-05-25 08:34:01.861157: E external/local_xla/xla/service/gpu/conv_algorithm_picker.cc:270] Device: Tesla P100-PCIE-16GB\n",
      "2024-05-25 08:34:01.861166: E external/local_xla/xla/service/gpu/conv_algorithm_picker.cc:271] Platform: Compute Capability 6.0\n",
      "2024-05-25 08:34:01.861174: E external/local_xla/xla/service/gpu/conv_algorithm_picker.cc:272] Driver: 12020 (535.129.3)\n",
      "2024-05-25 08:34:01.861181: E external/local_xla/xla/service/gpu/conv_algorithm_picker.cc:273] Runtime: <undefined>\n",
      "2024-05-25 08:34:01.861194: E external/local_xla/xla/service/gpu/conv_algorithm_picker.cc:280] cudnn version: 8.9.0\n",
      "2024-05-25 08:34:01.995372: E external/local_xla/xla/service/gpu/buffer_comparator.cc:1137] Difference at 3844: 3.50622, expected 2.90338\n",
      "2024-05-25 08:34:01.995418: E external/local_xla/xla/service/gpu/buffer_comparator.cc:1137] Difference at 3845: 2.89383, expected 2.29098\n",
      "2024-05-25 08:34:01.995428: E external/local_xla/xla/service/gpu/buffer_comparator.cc:1137] Difference at 3846: 2.45266, expected 1.84981\n",
      "2024-05-25 08:34:01.995436: E external/local_xla/xla/service/gpu/buffer_comparator.cc:1137] Difference at 3847: 3.22924, expected 2.6264\n",
      "2024-05-25 08:34:01.995444: E external/local_xla/xla/service/gpu/buffer_comparator.cc:1137] Difference at 3848: 3.88833, expected 3.28549\n",
      "2024-05-25 08:34:01.995452: E external/local_xla/xla/service/gpu/buffer_comparator.cc:1137] Difference at 3849: 4.2225, expected 3.61966\n",
      "2024-05-25 08:34:01.995460: E external/local_xla/xla/service/gpu/buffer_comparator.cc:1137] Difference at 3850: 3.66357, expected 3.06072\n",
      "2024-05-25 08:34:01.995468: E external/local_xla/xla/service/gpu/buffer_comparator.cc:1137] Difference at 3851: 2.65074, expected 2.0479\n",
      "2024-05-25 08:34:01.995476: E external/local_xla/xla/service/gpu/buffer_comparator.cc:1137] Difference at 3852: 2.06911, expected 1.46627\n",
      "2024-05-25 08:34:01.995484: E external/local_xla/xla/service/gpu/buffer_comparator.cc:1137] Difference at 3853: 2.85866, expected 2.25581\n",
      "2024-05-25 08:34:01.997208: E external/local_xla/xla/service/gpu/conv_algorithm_picker.cc:705] Results mismatch between different convolution algorithms. This is likely a bug/unexpected loss of precision in cudnn.\n",
      "(f32[32,32,62,62]{3,2,1,0}, u8[0]{0}) custom-call(f32[32,1,64,64]{3,2,1,0}, f32[32,1,3,3]{3,2,1,0}, f32[32]{0}), window={size=3x3}, dim_labels=bf01_oi01->bf01, custom_call_target=\"__cudnn$convBiasActivationForward\", backend_config={\"conv_result_scale\":1,\"activation_mode\":\"kRelu\",\"side_input_scale\":0,\"leakyrelu_alpha\":0} for eng20{k2=2,k4=1,k5=1,k6=0,k7=0} vs eng15{k5=1,k6=0,k7=1,k10=1}\n",
      "2024-05-25 08:34:01.997236: E external/local_xla/xla/service/gpu/conv_algorithm_picker.cc:270] Device: Tesla P100-PCIE-16GB\n",
      "2024-05-25 08:34:01.997244: E external/local_xla/xla/service/gpu/conv_algorithm_picker.cc:271] Platform: Compute Capability 6.0\n",
      "2024-05-25 08:34:01.997251: E external/local_xla/xla/service/gpu/conv_algorithm_picker.cc:272] Driver: 12020 (535.129.3)\n",
      "2024-05-25 08:34:01.997257: E external/local_xla/xla/service/gpu/conv_algorithm_picker.cc:273] Runtime: <undefined>\n",
      "2024-05-25 08:34:01.997269: E external/local_xla/xla/service/gpu/conv_algorithm_picker.cc:280] cudnn version: 8.9.0\n"
     ]
    },
    {
     "name": "stdout",
     "output_type": "stream",
     "text": [
      "\u001b[1m 39/310\u001b[0m \u001b[32m━━\u001b[0m\u001b[37m━━━━━━━━━━━━━━━━━━\u001b[0m \u001b[1m1s\u001b[0m 4ms/step - accuracy: 0.2241 - loss: 1.7294"
     ]
    },
    {
     "name": "stderr",
     "output_type": "stream",
     "text": [
      "WARNING: All log messages before absl::InitializeLog() is called are written to STDERR\n",
      "I0000 00:00:1716626046.139519      69 device_compiler.h:186] Compiled cluster using XLA!  This line is logged at most once for the lifetime of the process.\n"
     ]
    },
    {
     "name": "stdout",
     "output_type": "stream",
     "text": [
      "\u001b[1m310/310\u001b[0m \u001b[32m━━━━━━━━━━━━━━━━━━━━\u001b[0m\u001b[37m\u001b[0m \u001b[1m0s\u001b[0m 22ms/step - accuracy: 0.2726 - loss: 1.6502"
     ]
    },
    {
     "name": "stderr",
     "output_type": "stream",
     "text": [
      "2024-05-25 08:34:13.834590: E external/local_xla/xla/service/gpu/buffer_comparator.cc:1137] Difference at 8: 1.7144, expected 1.41043\n",
      "2024-05-25 08:34:13.834648: E external/local_xla/xla/service/gpu/buffer_comparator.cc:1137] Difference at 9: 1.73872, expected 1.43476\n",
      "2024-05-25 08:34:13.834663: E external/local_xla/xla/service/gpu/buffer_comparator.cc:1137] Difference at 12: 2.03006, expected 1.7261\n",
      "2024-05-25 08:34:13.834680: E external/local_xla/xla/service/gpu/buffer_comparator.cc:1137] Difference at 30: 1.98496, expected 1.681\n",
      "2024-05-25 08:34:13.834693: E external/local_xla/xla/service/gpu/buffer_comparator.cc:1137] Difference at 42: 1.75918, expected 1.45522\n",
      "2024-05-25 08:34:13.834706: E external/local_xla/xla/service/gpu/buffer_comparator.cc:1137] Difference at 53: 1.7415, expected 1.43753\n",
      "2024-05-25 08:34:13.834718: E external/local_xla/xla/service/gpu/buffer_comparator.cc:1137] Difference at 54: 1.74983, expected 1.44587\n",
      "2024-05-25 08:34:13.834728: E external/local_xla/xla/service/gpu/buffer_comparator.cc:1137] Difference at 57: 1.91337, expected 1.60941\n",
      "2024-05-25 08:34:13.834739: E external/local_xla/xla/service/gpu/buffer_comparator.cc:1137] Difference at 64: 1.54983, expected 1.24587\n",
      "2024-05-25 08:34:13.834749: E external/local_xla/xla/service/gpu/buffer_comparator.cc:1137] Difference at 65: 1.61463, expected 1.31067\n",
      "2024-05-25 08:34:13.834769: E external/local_xla/xla/service/gpu/conv_algorithm_picker.cc:705] Results mismatch between different convolution algorithms. This is likely a bug/unexpected loss of precision in cudnn.\n",
      "(f32[9,32,62,62]{3,2,1,0}, u8[0]{0}) custom-call(f32[9,1,64,64]{3,2,1,0}, f32[32,1,3,3]{3,2,1,0}, f32[32]{0}), window={size=3x3}, dim_labels=bf01_oi01->bf01, custom_call_target=\"__cudnn$convBiasActivationForward\", backend_config={\"conv_result_scale\":1,\"activation_mode\":\"kRelu\",\"side_input_scale\":0,\"leakyrelu_alpha\":0} for eng20{k2=2,k4=1,k5=1,k6=0,k7=0} vs eng15{k5=1,k6=0,k7=1,k10=1}\n",
      "2024-05-25 08:34:13.834780: E external/local_xla/xla/service/gpu/conv_algorithm_picker.cc:270] Device: Tesla P100-PCIE-16GB\n",
      "2024-05-25 08:34:13.834790: E external/local_xla/xla/service/gpu/conv_algorithm_picker.cc:271] Platform: Compute Capability 6.0\n",
      "2024-05-25 08:34:13.834800: E external/local_xla/xla/service/gpu/conv_algorithm_picker.cc:272] Driver: 12020 (535.129.3)\n",
      "2024-05-25 08:34:13.834811: E external/local_xla/xla/service/gpu/conv_algorithm_picker.cc:273] Runtime: <undefined>\n",
      "2024-05-25 08:34:13.834826: E external/local_xla/xla/service/gpu/conv_algorithm_picker.cc:280] cudnn version: 8.9.0\n",
      "2024-05-25 08:34:13.860076: E external/local_xla/xla/service/gpu/buffer_comparator.cc:1137] Difference at 8: 1.7144, expected 1.41043\n",
      "2024-05-25 08:34:13.860140: E external/local_xla/xla/service/gpu/buffer_comparator.cc:1137] Difference at 9: 1.73872, expected 1.43476\n",
      "2024-05-25 08:34:13.860159: E external/local_xla/xla/service/gpu/buffer_comparator.cc:1137] Difference at 12: 2.03006, expected 1.7261\n",
      "2024-05-25 08:34:13.860177: E external/local_xla/xla/service/gpu/buffer_comparator.cc:1137] Difference at 30: 1.98496, expected 1.681\n",
      "2024-05-25 08:34:13.860191: E external/local_xla/xla/service/gpu/buffer_comparator.cc:1137] Difference at 42: 1.75918, expected 1.45522\n",
      "2024-05-25 08:34:13.860202: E external/local_xla/xla/service/gpu/buffer_comparator.cc:1137] Difference at 53: 1.7415, expected 1.43753\n",
      "2024-05-25 08:34:13.860212: E external/local_xla/xla/service/gpu/buffer_comparator.cc:1137] Difference at 54: 1.74983, expected 1.44587\n",
      "2024-05-25 08:34:13.860224: E external/local_xla/xla/service/gpu/buffer_comparator.cc:1137] Difference at 57: 1.91337, expected 1.60941\n",
      "2024-05-25 08:34:13.860235: E external/local_xla/xla/service/gpu/buffer_comparator.cc:1137] Difference at 64: 1.54983, expected 1.24587\n",
      "2024-05-25 08:34:13.860247: E external/local_xla/xla/service/gpu/buffer_comparator.cc:1137] Difference at 65: 1.61463, expected 1.31067\n",
      "2024-05-25 08:34:13.860272: E external/local_xla/xla/service/gpu/conv_algorithm_picker.cc:705] Results mismatch between different convolution algorithms. This is likely a bug/unexpected loss of precision in cudnn.\n",
      "(f32[9,32,62,62]{3,2,1,0}, u8[0]{0}) custom-call(f32[9,1,64,64]{3,2,1,0}, f32[32,1,3,3]{3,2,1,0}, f32[32]{0}), window={size=3x3}, dim_labels=bf01_oi01->bf01, custom_call_target=\"__cudnn$convBiasActivationForward\", backend_config={\"conv_result_scale\":1,\"activation_mode\":\"kRelu\",\"side_input_scale\":0,\"leakyrelu_alpha\":0} for eng20{k2=2,k4=1,k5=1,k6=0,k7=0} vs eng15{k5=1,k6=0,k7=1,k10=1}\n",
      "2024-05-25 08:34:13.860306: E external/local_xla/xla/service/gpu/conv_algorithm_picker.cc:270] Device: Tesla P100-PCIE-16GB\n",
      "2024-05-25 08:34:13.860318: E external/local_xla/xla/service/gpu/conv_algorithm_picker.cc:271] Platform: Compute Capability 6.0\n",
      "2024-05-25 08:34:13.860328: E external/local_xla/xla/service/gpu/conv_algorithm_picker.cc:272] Driver: 12020 (535.129.3)\n",
      "2024-05-25 08:34:13.860339: E external/local_xla/xla/service/gpu/conv_algorithm_picker.cc:273] Runtime: <undefined>\n",
      "2024-05-25 08:34:13.860355: E external/local_xla/xla/service/gpu/conv_algorithm_picker.cc:280] cudnn version: 8.9.0\n"
     ]
    },
    {
     "name": "stdout",
     "output_type": "stream",
     "text": [
      "\u001b[1m310/310\u001b[0m \u001b[32m━━━━━━━━━━━━━━━━━━━━\u001b[0m\u001b[37m\u001b[0m \u001b[1m17s\u001b[0m 27ms/step - accuracy: 0.2727 - loss: 1.6499 - val_accuracy: 0.4282 - val_loss: 1.3635\n",
      "Epoch 2/10\n",
      "\u001b[1m310/310\u001b[0m \u001b[32m━━━━━━━━━━━━━━━━━━━━\u001b[0m\u001b[37m\u001b[0m \u001b[1m1s\u001b[0m 4ms/step - accuracy: 0.4312 - loss: 1.3859 - val_accuracy: 0.5241 - val_loss: 1.1759\n",
      "Epoch 3/10\n",
      "\u001b[1m310/310\u001b[0m \u001b[32m━━━━━━━━━━━━━━━━━━━━\u001b[0m\u001b[37m\u001b[0m \u001b[1m1s\u001b[0m 4ms/step - accuracy: 0.4690 - loss: 1.2852 - val_accuracy: 0.5625 - val_loss: 1.0959\n",
      "Epoch 4/10\n",
      "\u001b[1m310/310\u001b[0m \u001b[32m━━━━━━━━━━━━━━━━━━━━\u001b[0m\u001b[37m\u001b[0m \u001b[1m1s\u001b[0m 4ms/step - accuracy: 0.5109 - loss: 1.1941 - val_accuracy: 0.5754 - val_loss: 1.0438\n",
      "Epoch 5/10\n",
      "\u001b[1m310/310\u001b[0m \u001b[32m━━━━━━━━━━━━━━━━━━━━\u001b[0m\u001b[37m\u001b[0m \u001b[1m1s\u001b[0m 4ms/step - accuracy: 0.5543 - loss: 1.1052 - val_accuracy: 0.6203 - val_loss: 0.9967\n",
      "Epoch 6/10\n",
      "\u001b[1m310/310\u001b[0m \u001b[32m━━━━━━━━━━━━━━━━━━━━\u001b[0m\u001b[37m\u001b[0m \u001b[1m1s\u001b[0m 4ms/step - accuracy: 0.5704 - loss: 1.0337 - val_accuracy: 0.5718 - val_loss: 1.0138\n",
      "Epoch 7/10\n",
      "\u001b[1m310/310\u001b[0m \u001b[32m━━━━━━━━━━━━━━━━━━━━\u001b[0m\u001b[37m\u001b[0m \u001b[1m1s\u001b[0m 4ms/step - accuracy: 0.5193 - loss: 1.1873 - val_accuracy: 0.6057 - val_loss: 1.1236\n",
      "Epoch 8/10\n",
      "\u001b[1m310/310\u001b[0m \u001b[32m━━━━━━━━━━━━━━━━━━━━\u001b[0m\u001b[37m\u001b[0m \u001b[1m1s\u001b[0m 4ms/step - accuracy: 0.5565 - loss: 1.0949 - val_accuracy: 0.6284 - val_loss: 1.0196\n",
      "Epoch 9/10\n",
      "\u001b[1m310/310\u001b[0m \u001b[32m━━━━━━━━━━━━━━━━━━━━\u001b[0m\u001b[37m\u001b[0m \u001b[1m1s\u001b[0m 4ms/step - accuracy: 0.5609 - loss: 1.0986 - val_accuracy: 0.6405 - val_loss: 0.9908\n",
      "Epoch 10/10\n",
      "\u001b[1m310/310\u001b[0m \u001b[32m━━━━━━━━━━━━━━━━━━━━\u001b[0m\u001b[37m\u001b[0m \u001b[1m1s\u001b[0m 4ms/step - accuracy: 0.5526 - loss: 1.1012 - val_accuracy: 0.6413 - val_loss: 0.9804\n"
     ]
    }
   ],
   "source": [
    "history = cnn.fit(x_train, y_train, epochs=10, batch_size=32, validation_split=0.2)"
   ]
  },
  {
   "cell_type": "code",
   "execution_count": 22,
   "id": "5052f04e",
   "metadata": {
    "execution": {
     "iopub.execute_input": "2024-05-25T08:34:26.619597Z",
     "iopub.status.busy": "2024-05-25T08:34:26.619249Z",
     "iopub.status.idle": "2024-05-25T08:34:40.965247Z",
     "shell.execute_reply": "2024-05-25T08:34:40.964258Z"
    },
    "papermill": {
     "duration": 14.37725,
     "end_time": "2024-05-25T08:34:40.967544",
     "exception": false,
     "start_time": "2024-05-25T08:34:26.590294",
     "status": "completed"
    },
    "tags": []
   },
   "outputs": [
    {
     "name": "stdout",
     "output_type": "stream",
     "text": [
      "Epoch 1/10\n",
      "\u001b[1m310/310\u001b[0m \u001b[32m━━━━━━━━━━━━━━━━━━━━\u001b[0m\u001b[37m\u001b[0m \u001b[1m1s\u001b[0m 5ms/step - accuracy: 0.6245 - loss: 0.9133 - val_accuracy: 0.6357 - val_loss: 0.9869\n",
      "Epoch 2/10\n",
      "\u001b[1m310/310\u001b[0m \u001b[32m━━━━━━━━━━━━━━━━━━━━\u001b[0m\u001b[37m\u001b[0m \u001b[1m1s\u001b[0m 4ms/step - accuracy: 0.5296 - loss: 1.1628 - val_accuracy: 0.6256 - val_loss: 1.0291\n",
      "Epoch 3/10\n",
      "\u001b[1m310/310\u001b[0m \u001b[32m━━━━━━━━━━━━━━━━━━━━\u001b[0m\u001b[37m\u001b[0m \u001b[1m1s\u001b[0m 4ms/step - accuracy: 0.6318 - loss: 0.9139 - val_accuracy: 0.6361 - val_loss: 0.8996\n",
      "Epoch 4/10\n",
      "\u001b[1m310/310\u001b[0m \u001b[32m━━━━━━━━━━━━━━━━━━━━\u001b[0m\u001b[37m\u001b[0m \u001b[1m1s\u001b[0m 4ms/step - accuracy: 0.5814 - loss: 1.0273 - val_accuracy: 0.6429 - val_loss: 0.9384\n",
      "Epoch 5/10\n",
      "\u001b[1m310/310\u001b[0m \u001b[32m━━━━━━━━━━━━━━━━━━━━\u001b[0m\u001b[37m\u001b[0m \u001b[1m1s\u001b[0m 4ms/step - accuracy: 0.6476 - loss: 0.8815 - val_accuracy: 0.6438 - val_loss: 0.9364\n",
      "Epoch 6/10\n",
      "\u001b[1m310/310\u001b[0m \u001b[32m━━━━━━━━━━━━━━━━━━━━\u001b[0m\u001b[37m\u001b[0m \u001b[1m1s\u001b[0m 4ms/step - accuracy: 0.6103 - loss: 0.9327 - val_accuracy: 0.6644 - val_loss: 0.9515\n",
      "Epoch 7/10\n",
      "\u001b[1m310/310\u001b[0m \u001b[32m━━━━━━━━━━━━━━━━━━━━\u001b[0m\u001b[37m\u001b[0m \u001b[1m1s\u001b[0m 4ms/step - accuracy: 0.6219 - loss: 0.9359 - val_accuracy: 0.6510 - val_loss: 0.9181\n",
      "Epoch 8/10\n",
      "\u001b[1m310/310\u001b[0m \u001b[32m━━━━━━━━━━━━━━━━━━━━\u001b[0m\u001b[37m\u001b[0m \u001b[1m1s\u001b[0m 4ms/step - accuracy: 0.6182 - loss: 0.9470 - val_accuracy: 0.6442 - val_loss: 1.0875\n",
      "Epoch 9/10\n",
      "\u001b[1m310/310\u001b[0m \u001b[32m━━━━━━━━━━━━━━━━━━━━\u001b[0m\u001b[37m\u001b[0m \u001b[1m1s\u001b[0m 5ms/step - accuracy: 0.6131 - loss: 0.9991 - val_accuracy: 0.6401 - val_loss: 1.2570\n",
      "Epoch 10/10\n",
      "\u001b[1m310/310\u001b[0m \u001b[32m━━━━━━━━━━━━━━━━━━━━\u001b[0m\u001b[37m\u001b[0m \u001b[1m1s\u001b[0m 4ms/step - accuracy: 0.6369 - loss: 0.8984 - val_accuracy: 0.6636 - val_loss: 1.0773\n"
     ]
    }
   ],
   "source": [
    "history = cnn.fit(x_train, y_train, epochs=10, batch_size=32, validation_split=0.2)"
   ]
  },
  {
   "cell_type": "code",
   "execution_count": 23,
   "id": "674858c6",
   "metadata": {
    "execution": {
     "iopub.execute_input": "2024-05-25T08:34:41.067645Z",
     "iopub.status.busy": "2024-05-25T08:34:41.067264Z",
     "iopub.status.idle": "2024-05-25T08:34:42.040166Z",
     "shell.execute_reply": "2024-05-25T08:34:42.039171Z"
    },
    "papermill": {
     "duration": 1.023767,
     "end_time": "2024-05-25T08:34:42.042436",
     "exception": false,
     "start_time": "2024-05-25T08:34:41.018669",
     "status": "completed"
    },
    "tags": []
   },
   "outputs": [
    {
     "name": "stdout",
     "output_type": "stream",
     "text": [
      "\u001b[1m87/97\u001b[0m \u001b[32m━━━━━━━━━━━━━━━━━\u001b[0m\u001b[37m━━━\u001b[0m \u001b[1m0s\u001b[0m 2ms/step - accuracy: 0.7009 - loss: 0.7873"
     ]
    },
    {
     "name": "stderr",
     "output_type": "stream",
     "text": [
      "2024-05-25 08:34:41.513791: E external/local_xla/xla/service/gpu/buffer_comparator.cc:1137] Difference at 0: 2.93965, expected 2.43046\n",
      "2024-05-25 08:34:41.513854: E external/local_xla/xla/service/gpu/buffer_comparator.cc:1137] Difference at 1: 3.49797, expected 2.98878\n",
      "2024-05-25 08:34:41.513869: E external/local_xla/xla/service/gpu/buffer_comparator.cc:1137] Difference at 2: 2.8939, expected 2.38471\n",
      "2024-05-25 08:34:41.513879: E external/local_xla/xla/service/gpu/buffer_comparator.cc:1137] Difference at 3: 2.17464, expected 1.66545\n",
      "2024-05-25 08:34:41.513891: E external/local_xla/xla/service/gpu/buffer_comparator.cc:1137] Difference at 4: 2.73179, expected 2.2226\n",
      "2024-05-25 08:34:41.513902: E external/local_xla/xla/service/gpu/buffer_comparator.cc:1137] Difference at 5: 3.26928, expected 2.76009\n",
      "2024-05-25 08:34:41.513913: E external/local_xla/xla/service/gpu/buffer_comparator.cc:1137] Difference at 6: 2.66209, expected 2.1529\n",
      "2024-05-25 08:34:41.513923: E external/local_xla/xla/service/gpu/buffer_comparator.cc:1137] Difference at 7: 3.01374, expected 2.50455\n",
      "2024-05-25 08:34:41.513934: E external/local_xla/xla/service/gpu/buffer_comparator.cc:1137] Difference at 8: 1.97084, expected 1.46165\n",
      "2024-05-25 08:34:41.513943: E external/local_xla/xla/service/gpu/buffer_comparator.cc:1137] Difference at 9: 1.73248, expected 1.22329\n",
      "2024-05-25 08:34:41.513962: E external/local_xla/xla/service/gpu/conv_algorithm_picker.cc:705] Results mismatch between different convolution algorithms. This is likely a bug/unexpected loss of precision in cudnn.\n",
      "(f32[19,32,62,62]{3,2,1,0}, u8[0]{0}) custom-call(f32[19,1,64,64]{3,2,1,0}, f32[32,1,3,3]{3,2,1,0}, f32[32]{0}), window={size=3x3}, dim_labels=bf01_oi01->bf01, custom_call_target=\"__cudnn$convBiasActivationForward\", backend_config={\"conv_result_scale\":1,\"activation_mode\":\"kRelu\",\"side_input_scale\":0,\"leakyrelu_alpha\":0} for eng20{k2=2,k4=1,k5=1,k6=0,k7=0} vs eng15{k5=1,k6=0,k7=1,k10=1}\n",
      "2024-05-25 08:34:41.513972: E external/local_xla/xla/service/gpu/conv_algorithm_picker.cc:270] Device: Tesla P100-PCIE-16GB\n",
      "2024-05-25 08:34:41.513981: E external/local_xla/xla/service/gpu/conv_algorithm_picker.cc:271] Platform: Compute Capability 6.0\n",
      "2024-05-25 08:34:41.513991: E external/local_xla/xla/service/gpu/conv_algorithm_picker.cc:272] Driver: 12020 (535.129.3)\n",
      "2024-05-25 08:34:41.514001: E external/local_xla/xla/service/gpu/conv_algorithm_picker.cc:273] Runtime: <undefined>\n",
      "2024-05-25 08:34:41.514016: E external/local_xla/xla/service/gpu/conv_algorithm_picker.cc:280] cudnn version: 8.9.0\n",
      "2024-05-25 08:34:41.545111: E external/local_xla/xla/service/gpu/buffer_comparator.cc:1137] Difference at 0: 2.93965, expected 2.43046\n",
      "2024-05-25 08:34:41.545156: E external/local_xla/xla/service/gpu/buffer_comparator.cc:1137] Difference at 1: 3.49797, expected 2.98878\n",
      "2024-05-25 08:34:41.545169: E external/local_xla/xla/service/gpu/buffer_comparator.cc:1137] Difference at 2: 2.8939, expected 2.38471\n",
      "2024-05-25 08:34:41.545182: E external/local_xla/xla/service/gpu/buffer_comparator.cc:1137] Difference at 3: 2.17464, expected 1.66545\n",
      "2024-05-25 08:34:41.545195: E external/local_xla/xla/service/gpu/buffer_comparator.cc:1137] Difference at 4: 2.73179, expected 2.2226\n",
      "2024-05-25 08:34:41.545205: E external/local_xla/xla/service/gpu/buffer_comparator.cc:1137] Difference at 5: 3.26928, expected 2.76009\n",
      "2024-05-25 08:34:41.545216: E external/local_xla/xla/service/gpu/buffer_comparator.cc:1137] Difference at 6: 2.66209, expected 2.1529\n",
      "2024-05-25 08:34:41.545227: E external/local_xla/xla/service/gpu/buffer_comparator.cc:1137] Difference at 7: 3.01374, expected 2.50455\n",
      "2024-05-25 08:34:41.545241: E external/local_xla/xla/service/gpu/buffer_comparator.cc:1137] Difference at 8: 1.97084, expected 1.46165\n",
      "2024-05-25 08:34:41.545254: E external/local_xla/xla/service/gpu/buffer_comparator.cc:1137] Difference at 9: 1.73248, expected 1.22329\n",
      "2024-05-25 08:34:41.545288: E external/local_xla/xla/service/gpu/conv_algorithm_picker.cc:705] Results mismatch between different convolution algorithms. This is likely a bug/unexpected loss of precision in cudnn.\n",
      "(f32[19,32,62,62]{3,2,1,0}, u8[0]{0}) custom-call(f32[19,1,64,64]{3,2,1,0}, f32[32,1,3,3]{3,2,1,0}, f32[32]{0}), window={size=3x3}, dim_labels=bf01_oi01->bf01, custom_call_target=\"__cudnn$convBiasActivationForward\", backend_config={\"conv_result_scale\":1,\"activation_mode\":\"kRelu\",\"side_input_scale\":0,\"leakyrelu_alpha\":0} for eng20{k2=2,k4=1,k5=1,k6=0,k7=0} vs eng15{k5=1,k6=0,k7=1,k10=1}\n",
      "2024-05-25 08:34:41.545308: E external/local_xla/xla/service/gpu/conv_algorithm_picker.cc:270] Device: Tesla P100-PCIE-16GB\n",
      "2024-05-25 08:34:41.545321: E external/local_xla/xla/service/gpu/conv_algorithm_picker.cc:271] Platform: Compute Capability 6.0\n",
      "2024-05-25 08:34:41.545330: E external/local_xla/xla/service/gpu/conv_algorithm_picker.cc:272] Driver: 12020 (535.129.3)\n",
      "2024-05-25 08:34:41.545340: E external/local_xla/xla/service/gpu/conv_algorithm_picker.cc:273] Runtime: <undefined>\n",
      "2024-05-25 08:34:41.545354: E external/local_xla/xla/service/gpu/conv_algorithm_picker.cc:280] cudnn version: 8.9.0\n"
     ]
    },
    {
     "name": "stdout",
     "output_type": "stream",
     "text": [
      "\u001b[1m97/97\u001b[0m \u001b[32m━━━━━━━━━━━━━━━━━━━━\u001b[0m\u001b[37m\u001b[0m \u001b[1m1s\u001b[0m 8ms/step - accuracy: 0.6995 - loss: 0.7978\n",
      "Test accuracy: 0.6845681071281433\n"
     ]
    }
   ],
   "source": [
    "test_loss, test_acc = cnn.evaluate(x_test, y_test)\n",
    "print(f'Test accuracy: {test_acc}')"
   ]
  },
  {
   "cell_type": "code",
   "execution_count": 24,
   "id": "442ccacf",
   "metadata": {
    "execution": {
     "iopub.execute_input": "2024-05-25T08:34:42.139033Z",
     "iopub.status.busy": "2024-05-25T08:34:42.138720Z",
     "iopub.status.idle": "2024-05-25T08:34:42.545215Z",
     "shell.execute_reply": "2024-05-25T08:34:42.544331Z"
    },
    "papermill": {
     "duration": 0.456975,
     "end_time": "2024-05-25T08:34:42.547363",
     "exception": false,
     "start_time": "2024-05-25T08:34:42.090388",
     "status": "completed"
    },
    "tags": []
   },
   "outputs": [
    {
     "data": {
      "image/png": "[encoded data removed]",
      "text/plain": [
       "<Figure size 1200x400 with 2 Axes>"
      ]
     },
     "metadata": {},
     "output_type": "display_data"
    }
   ],
   "source": [
    "import matplotlib.pyplot as plt\n",
    "\n",
    "# Plot training & validation accuracy values\n",
    "plt.figure(figsize=(12, 4))\n",
    "plt.subplot(1, 2, 1)\n",
    "plt.plot(history.history['accuracy'])\n",
    "plt.plot(history.history['val_accuracy'])\n",
    "plt.title('Model accuracy')\n",
    "plt.xlabel('Epoch')\n",
    "plt.ylabel('Accuracy')\n",
    "plt.legend(['Train', 'Validation'], loc='upper left')\n",
    "\n",
    "# Plot training & validation loss values\n",
    "plt.subplot(1, 2, 2)\n",
    "plt.plot(history.history['loss'])\n",
    "plt.plot(history.history['val_loss'])\n",
    "plt.title('Model loss')\n",
    "plt.xlabel('Epoch')\n",
    "plt.ylabel('Loss')\n",
    "plt.legend(['Train', 'Validation'], loc='upper left')\n",
    "\n",
    "plt.show()"
   ]
  },
  {
   "cell_type": "code",
   "execution_count": 25,
   "id": "391d241f",
   "metadata": {
    "execution": {
     "iopub.execute_input": "2024-05-25T08:34:42.650413Z",
     "iopub.status.busy": "2024-05-25T08:34:42.650035Z",
     "iopub.status.idle": "2024-05-25T08:34:43.128618Z",
     "shell.execute_reply": "2024-05-25T08:34:43.127501Z"
    },
    "papermill": {
     "duration": 0.531982,
     "end_time": "2024-05-25T08:34:43.130645",
     "exception": false,
     "start_time": "2024-05-25T08:34:42.598663",
     "status": "completed"
    },
    "tags": []
   },
   "outputs": [
    {
     "name": "stdout",
     "output_type": "stream",
     "text": [
      "\u001b[1m1/1\u001b[0m \u001b[32m━━━━━━━━━━━━━━━━━━━━\u001b[0m\u001b[37m\u001b[0m \u001b[1m0s\u001b[0m 416ms/step\n",
      "The predicted emotion is: Neutral\n"
     ]
    }
   ],
   "source": [
    "import cv2\n",
    "import numpy as np\n",
    "\n",
    "def load_and_preprocess_image(image_path):\n",
    "    # Load the image in grayscale\n",
    "    image = cv2.imread(image_path, cv2.IMREAD_GRAYSCALE)\n",
    "    # Resize the image to 48x48 pixels\n",
    "    image = cv2.resize(image, (64, 64))\n",
    "    # Normalize the image\n",
    "    image = image / 255.0\n",
    "    # Reshape the image to match the model input shape (1, 48, 48, 1)\n",
    "    image = image.reshape(1, 64, 64, 1)\n",
    "    return image\n",
    "\n",
    "def predict_emotion(image_path):\n",
    "    # Load and preprocess the image\n",
    "    image = load_and_preprocess_image(image_path)\n",
    "    # Predict the emotion\n",
    "    predictions = cnn.predict(image)\n",
    "    # Get the index of the highest probability\n",
    "    predicted_index = np.argmax(predictions)\n",
    "    # Get the corresponding emotion label\n",
    "    predicted_emotion = categories[predicted_index]\n",
    "    return predicted_emotion\n",
    "\n",
    "# Path to the specific image\n",
    "image_path = '/kaggle/input/emotion-recognition-dataset/dataset/Ahegao/cropped_emotions.16023~ahegao.png'\n",
    "\n",
    "# Predict the emotion\n",
    "predicted_emotion = predict_emotion(image_path)\n",
    "print(f'The predicted emotion is: {predicted_emotion}')"
   ]
  },
  {
   "cell_type": "code",
   "execution_count": null,
   "id": "ee5edef6",
   "metadata": {
    "papermill": {
     "duration": 0.049361,
     "end_time": "2024-05-25T08:34:43.241165",
     "exception": false,
     "start_time": "2024-05-25T08:34:43.191804",
     "status": "completed"
    },
    "tags": []
   },
   "outputs": [],
   "source": []
  }
 ],
 "metadata": {
  "kaggle": {
   "accelerator": "gpu",
   "dataSources": [
    {
     "datasetId": 4123094,
     "sourceId": 7143293,
     "sourceType": "datasetVersion"
    }
   ],
   "dockerImageVersionId": 30699,
   "isGpuEnabled": true,
   "isInternetEnabled": true,
   "language": "python",
   "sourceType": "notebook"
  },
  "kernelspec": {
   "display_name": "Python 3",
   "language": "python",
   "name": "python3"
  },
  "language_info": {
   "codemirror_mode": {
    "name": "ipython",
    "version": 3
   },
   "file_extension": ".py",
   "mimetype": "text/x-python",
   "name": "python",
   "nbconvert_exporter": "python",
   "pygments_lexer": "ipython3",
   "version": "3.10.13"
  },
  "papermill": {
   "default_parameters": {},
   "duration": 240.278348,
   "end_time": "2024-05-25T08:34:45.985389",
   "environment_variables": {},
   "exception": null,
   "input_path": "__notebook__.ipynb",
   "output_path": "__notebook__.ipynb",
   "parameters": {},
   "start_time": "2024-05-25T08:30:45.707041",
   "version": "2.5.0"
  }
 },
 "nbformat": 4,
 "nbformat_minor": 5
}
