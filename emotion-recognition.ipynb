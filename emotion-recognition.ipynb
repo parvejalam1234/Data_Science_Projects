{
 "cells": [
  {
   "cell_type": "code",
   "execution_count": 1,
   "id": "dba39744",
   "metadata": {
    "execution": {
     "iopub.execute_input": "2024-05-25T08:38:16.274085Z",
     "iopub.status.busy": "2024-05-25T08:38:16.273190Z",
     "iopub.status.idle": "2024-05-25T08:38:17.547323Z",
     "shell.execute_reply": "2024-05-25T08:38:17.546487Z"
    },
    "papermill": {
     "duration": 1.286137,
     "end_time": "2024-05-25T08:38:17.549705",
     "exception": false,
     "start_time": "2024-05-25T08:38:16.263568",
     "status": "completed"
    },
    "tags": []
   },
   "outputs": [],
   "source": [
    "import os\n",
    "import cv2\n",
    "import numpy as np\n",
    "from sklearn.model_selection import train_test_split"
   ]
  },
  {
   "cell_type": "code",
   "execution_count": 2,
   "id": "fb5281e2",
   "metadata": {
    "execution": {
     "iopub.execute_input": "2024-05-25T08:38:17.565715Z",
     "iopub.status.busy": "2024-05-25T08:38:17.565415Z",
     "iopub.status.idle": "2024-05-25T08:38:17.569568Z",
     "shell.execute_reply": "2024-05-25T08:38:17.568716Z"
    },
    "papermill": {
     "duration": 0.014225,
     "end_time": "2024-05-25T08:38:17.571479",
     "exception": false,
     "start_time": "2024-05-25T08:38:17.557254",
     "status": "completed"
    },
    "tags": []
   },
   "outputs": [],
   "source": [
    "base_dir = '/kaggle/input/emotion-recognition-dataset/dataset'\n",
    "categories = ['Ahegao', 'Angry', 'Happy', 'Neutral', 'Sad', 'Surprise']"
   ]
  },
  {
   "cell_type": "code",
   "execution_count": 3,
   "id": "3ef478f6",
   "metadata": {
    "execution": {
     "iopub.execute_input": "2024-05-25T08:38:17.587308Z",
     "iopub.status.busy": "2024-05-25T08:38:17.586554Z",
     "iopub.status.idle": "2024-05-25T08:38:17.590594Z",
     "shell.execute_reply": "2024-05-25T08:38:17.589735Z"
    },
    "papermill": {
     "duration": 0.013841,
     "end_time": "2024-05-25T08:38:17.592493",
     "exception": false,
     "start_time": "2024-05-25T08:38:17.578652",
     "status": "completed"
    },
    "tags": []
   },
   "outputs": [],
   "source": [
    "data = []\n",
    "labels = []"
   ]
  },
  {
   "cell_type": "code",
   "execution_count": 4,
   "id": "a9e79eea",
   "metadata": {
    "execution": {
     "iopub.execute_input": "2024-05-25T08:38:17.607735Z",
     "iopub.status.busy": "2024-05-25T08:38:17.607480Z",
     "iopub.status.idle": "2024-05-25T08:40:33.776734Z",
     "shell.execute_reply": "2024-05-25T08:40:33.775831Z"
    },
    "papermill": {
     "duration": 136.179761,
     "end_time": "2024-05-25T08:40:33.779373",
     "exception": false,
     "start_time": "2024-05-25T08:38:17.599612",
     "status": "completed"
    },
    "tags": []
   },
   "outputs": [],
   "source": [
    "for category in categories:\n",
    "    folder_path = os.path.join(base_dir, category)\n",
    "    for img in os.listdir(folder_path):\n",
    "        img_path = os.path.join(folder_path, img)\n",
    "        image = cv2.imread(img_path, cv2.IMREAD_GRAYSCALE)\n",
    "        image = cv2.resize(image, (64, 64))\n",
    "        data.append(image)\n",
    "        labels.append(categories.index(category))"
   ]
  },
  {
   "cell_type": "code",
   "execution_count": 5,
   "id": "4cfa5fba",
   "metadata": {
    "execution": {
     "iopub.execute_input": "2024-05-25T08:40:33.796912Z",
     "iopub.status.busy": "2024-05-25T08:40:33.796032Z",
     "iopub.status.idle": "2024-05-25T08:40:33.991883Z",
     "shell.execute_reply": "2024-05-25T08:40:33.991045Z"
    },
    "papermill": {
     "duration": 0.206976,
     "end_time": "2024-05-25T08:40:33.994325",
     "exception": false,
     "start_time": "2024-05-25T08:40:33.787349",
     "status": "completed"
    },
    "tags": []
   },
   "outputs": [],
   "source": [
    "data = np.array(data).reshape(-1, 64, 64, 1)/255.0\n",
    "labels = np.array(labels)"
   ]
  },
  {
   "cell_type": "code",
   "execution_count": 6,
   "id": "7d4573ae",
   "metadata": {
    "execution": {
     "iopub.execute_input": "2024-05-25T08:40:34.010948Z",
     "iopub.status.busy": "2024-05-25T08:40:34.010597Z",
     "iopub.status.idle": "2024-05-25T08:40:34.166667Z",
     "shell.execute_reply": "2024-05-25T08:40:34.165806Z"
    },
    "papermill": {
     "duration": 0.167253,
     "end_time": "2024-05-25T08:40:34.169067",
     "exception": false,
     "start_time": "2024-05-25T08:40:34.001814",
     "status": "completed"
    },
    "tags": []
   },
   "outputs": [],
   "source": [
    "x_train, x_test, y_train, y_test = train_test_split(data, labels, test_size = 0.2, random_state = 1)"
   ]
  },
  {
   "cell_type": "code",
   "execution_count": 7,
   "id": "c9fc2a55",
   "metadata": {
    "execution": {
     "iopub.execute_input": "2024-05-25T08:40:34.186206Z",
     "iopub.status.busy": "2024-05-25T08:40:34.185863Z",
     "iopub.status.idle": "2024-05-25T08:40:46.591727Z",
     "shell.execute_reply": "2024-05-25T08:40:46.590921Z"
    },
    "papermill": {
     "duration": 12.416786,
     "end_time": "2024-05-25T08:40:46.594207",
     "exception": false,
     "start_time": "2024-05-25T08:40:34.177421",
     "status": "completed"
    },
    "tags": []
   },
   "outputs": [
    {
     "name": "stderr",
     "output_type": "stream",
     "text": [
      "2024-05-25 08:40:36.075491: E external/local_xla/xla/stream_executor/cuda/cuda_dnn.cc:9261] Unable to register cuDNN factory: Attempting to register factory for plugin cuDNN when one has already been registered\n",
      "2024-05-25 08:40:36.075607: E external/local_xla/xla/stream_executor/cuda/cuda_fft.cc:607] Unable to register cuFFT factory: Attempting to register factory for plugin cuFFT when one has already been registered\n",
      "2024-05-25 08:40:36.216154: E external/local_xla/xla/stream_executor/cuda/cuda_blas.cc:1515] Unable to register cuBLAS factory: Attempting to register factory for plugin cuBLAS when one has already been registered\n"
     ]
    }
   ],
   "source": [
    "import tensorflow as tf"
   ]
  },
  {
   "cell_type": "code",
   "execution_count": 8,
   "id": "78180c77",
   "metadata": {
    "execution": {
     "iopub.execute_input": "2024-05-25T08:40:46.612079Z",
     "iopub.status.busy": "2024-05-25T08:40:46.611506Z",
     "iopub.status.idle": "2024-05-25T08:40:46.615781Z",
     "shell.execute_reply": "2024-05-25T08:40:46.614876Z"
    },
    "papermill": {
     "duration": 0.014591,
     "end_time": "2024-05-25T08:40:46.617653",
     "exception": false,
     "start_time": "2024-05-25T08:40:46.603062",
     "status": "completed"
    },
    "tags": []
   },
   "outputs": [],
   "source": [
    "# !pip install tensorflow"
   ]
  },
  {
   "cell_type": "code",
   "execution_count": 9,
   "id": "2d5a0582",
   "metadata": {
    "execution": {
     "iopub.execute_input": "2024-05-25T08:40:46.633915Z",
     "iopub.status.busy": "2024-05-25T08:40:46.633283Z",
     "iopub.status.idle": "2024-05-25T08:40:46.638651Z",
     "shell.execute_reply": "2024-05-25T08:40:46.637923Z"
    },
    "papermill": {
     "duration": 0.01564,
     "end_time": "2024-05-25T08:40:46.640605",
     "exception": false,
     "start_time": "2024-05-25T08:40:46.624965",
     "status": "completed"
    },
    "tags": []
   },
   "outputs": [],
   "source": [
    "from tensorflow.keras.preprocessing.image import ImageDataGenerator"
   ]
  },
  {
   "cell_type": "code",
   "execution_count": 10,
   "id": "7a46ad49",
   "metadata": {
    "execution": {
     "iopub.execute_input": "2024-05-25T08:40:46.656650Z",
     "iopub.status.busy": "2024-05-25T08:40:46.656376Z",
     "iopub.status.idle": "2024-05-25T08:40:46.661025Z",
     "shell.execute_reply": "2024-05-25T08:40:46.660164Z"
    },
    "papermill": {
     "duration": 0.014796,
     "end_time": "2024-05-25T08:40:46.662936",
     "exception": false,
     "start_time": "2024-05-25T08:40:46.648140",
     "status": "completed"
    },
    "tags": []
   },
   "outputs": [],
   "source": [
    "datagen = ImageDataGenerator(\n",
    "    rotation_range=10,\n",
    "    width_shift_range=0.1,\n",
    "    height_shift_range=0.1,\n",
    "    shear_range=0.1,\n",
    "    zoom_range=0.1,\n",
    "    horizontal_flip=True,\n",
    "    fill_mode='nearest'\n",
    ")"
   ]
  },
  {
   "cell_type": "code",
   "execution_count": 11,
   "id": "b3d42d9a",
   "metadata": {
    "execution": {
     "iopub.execute_input": "2024-05-25T08:40:46.678943Z",
     "iopub.status.busy": "2024-05-25T08:40:46.678666Z",
     "iopub.status.idle": "2024-05-25T08:40:46.832594Z",
     "shell.execute_reply": "2024-05-25T08:40:46.831785Z"
    },
    "papermill": {
     "duration": 0.164499,
     "end_time": "2024-05-25T08:40:46.834936",
     "exception": false,
     "start_time": "2024-05-25T08:40:46.670437",
     "status": "completed"
    },
    "tags": []
   },
   "outputs": [],
   "source": [
    "datagen.fit(x_train)"
   ]
  },
  {
   "cell_type": "code",
   "execution_count": 12,
   "id": "776e98cd",
   "metadata": {
    "execution": {
     "iopub.execute_input": "2024-05-25T08:40:46.851083Z",
     "iopub.status.busy": "2024-05-25T08:40:46.850776Z",
     "iopub.status.idle": "2024-05-25T08:40:46.893160Z",
     "shell.execute_reply": "2024-05-25T08:40:46.892350Z"
    },
    "papermill": {
     "duration": 0.053094,
     "end_time": "2024-05-25T08:40:46.895550",
     "exception": false,
     "start_time": "2024-05-25T08:40:46.842456",
     "status": "completed"
    },
    "tags": []
   },
   "outputs": [],
   "source": [
    "datagen.fit(x_test)"
   ]
  },
  {
   "cell_type": "code",
   "execution_count": 13,
   "id": "7fdd2d8e",
   "metadata": {
    "execution": {
     "iopub.execute_input": "2024-05-25T08:40:46.911669Z",
     "iopub.status.busy": "2024-05-25T08:40:46.911355Z",
     "iopub.status.idle": "2024-05-25T08:40:46.915191Z",
     "shell.execute_reply": "2024-05-25T08:40:46.914330Z"
    },
    "papermill": {
     "duration": 0.01403,
     "end_time": "2024-05-25T08:40:46.917109",
     "exception": false,
     "start_time": "2024-05-25T08:40:46.903079",
     "status": "completed"
    },
    "tags": []
   },
   "outputs": [],
   "source": [
    "# x_test"
   ]
  },
  {
   "cell_type": "code",
   "execution_count": 14,
   "id": "3f131c87",
   "metadata": {
    "execution": {
     "iopub.execute_input": "2024-05-25T08:40:46.932700Z",
     "iopub.status.busy": "2024-05-25T08:40:46.932416Z",
     "iopub.status.idle": "2024-05-25T08:40:46.940088Z",
     "shell.execute_reply": "2024-05-25T08:40:46.939175Z"
    },
    "papermill": {
     "duration": 0.017651,
     "end_time": "2024-05-25T08:40:46.941989",
     "exception": false,
     "start_time": "2024-05-25T08:40:46.924338",
     "status": "completed"
    },
    "tags": []
   },
   "outputs": [],
   "source": [
    "cnn = tf.keras.models.Sequential()"
   ]
  },
  {
   "cell_type": "code",
   "execution_count": 15,
   "id": "0b35cdef",
   "metadata": {
    "execution": {
     "iopub.execute_input": "2024-05-25T08:40:46.958054Z",
     "iopub.status.busy": "2024-05-25T08:40:46.957749Z",
     "iopub.status.idle": "2024-05-25T08:40:47.646298Z",
     "shell.execute_reply": "2024-05-25T08:40:47.645345Z"
    },
    "papermill": {
     "duration": 0.699043,
     "end_time": "2024-05-25T08:40:47.648690",
     "exception": false,
     "start_time": "2024-05-25T08:40:46.949647",
     "status": "completed"
    },
    "tags": []
   },
   "outputs": [
    {
     "name": "stderr",
     "output_type": "stream",
     "text": [
      "/opt/conda/lib/python3.10/site-packages/keras/src/layers/convolutional/base_conv.py:99: UserWarning: Do not pass an `input_shape`/`input_dim` argument to a layer. When using Sequential models, prefer using an `Input(shape)` object as the first layer in the model instead.\n",
      "  super().__init__(\n"
     ]
    }
   ],
   "source": [
    "cnn.add(tf.keras.layers.Conv2D(filters = 32, kernel_size = 3, activation = 'relu', input_shape = (64, 64, 1)))\n",
    "cnn.add(tf.keras.layers.MaxPool2D((2, 2)))\n",
    "cnn.add(tf.keras.layers.Dropout(0.25))"
   ]
  },
  {
   "cell_type": "code",
   "execution_count": 16,
   "id": "fa21ce1f",
   "metadata": {
    "execution": {
     "iopub.execute_input": "2024-05-25T08:40:47.665592Z",
     "iopub.status.busy": "2024-05-25T08:40:47.665256Z",
     "iopub.status.idle": "2024-05-25T08:40:47.697770Z",
     "shell.execute_reply": "2024-05-25T08:40:47.696815Z"
    },
    "papermill": {
     "duration": 0.043805,
     "end_time": "2024-05-25T08:40:47.700089",
     "exception": false,
     "start_time": "2024-05-25T08:40:47.656284",
     "status": "completed"
    },
    "tags": []
   },
   "outputs": [],
   "source": [
    "cnn.add(tf.keras.layers.Conv2D(filters = 64, kernel_size = 3, activation = 'relu', input_shape = (64, 64, 1)))\n",
    "cnn.add(tf.keras.layers.MaxPool2D((2, 2)))\n",
    "cnn.add(tf.keras.layers.Dropout(0.25))"
   ]
  },
  {
   "cell_type": "code",
   "execution_count": 17,
   "id": "540a75a8",
   "metadata": {
    "execution": {
     "iopub.execute_input": "2024-05-25T08:40:47.717167Z",
     "iopub.status.busy": "2024-05-25T08:40:47.716329Z",
     "iopub.status.idle": "2024-05-25T08:40:47.751961Z",
     "shell.execute_reply": "2024-05-25T08:40:47.750960Z"
    },
    "papermill": {
     "duration": 0.046413,
     "end_time": "2024-05-25T08:40:47.754400",
     "exception": false,
     "start_time": "2024-05-25T08:40:47.707987",
     "status": "completed"
    },
    "tags": []
   },
   "outputs": [],
   "source": [
    "cnn.add(tf.keras.layers.Conv2D(filters = 128, kernel_size = 3, activation = 'relu', input_shape = (64, 64, 1)))\n",
    "cnn.add(tf.keras.layers.MaxPool2D((2, 2)))\n",
    "cnn.add(tf.keras.layers.Dropout(0.25))"
   ]
  },
  {
   "cell_type": "code",
   "execution_count": 18,
   "id": "0147b791",
   "metadata": {
    "execution": {
     "iopub.execute_input": "2024-05-25T08:40:47.771225Z",
     "iopub.status.busy": "2024-05-25T08:40:47.770564Z",
     "iopub.status.idle": "2024-05-25T08:40:47.826399Z",
     "shell.execute_reply": "2024-05-25T08:40:47.825534Z"
    },
    "papermill": {
     "duration": 0.066778,
     "end_time": "2024-05-25T08:40:47.828846",
     "exception": false,
     "start_time": "2024-05-25T08:40:47.762068",
     "status": "completed"
    },
    "tags": []
   },
   "outputs": [],
   "source": [
    "cnn.add(tf.keras.layers.Flatten())\n",
    "cnn.add(tf.keras.layers.Dense(units = 120, activation = 'relu'))\n",
    "cnn.add(tf.keras.layers.Dropout(0.5))\n",
    "cnn.add(tf.keras.layers.Dense(units = 6, activation = 'softmax'))"
   ]
  },
  {
   "cell_type": "code",
   "execution_count": 19,
   "id": "8f31b8c3",
   "metadata": {
    "execution": {
     "iopub.execute_input": "2024-05-25T08:40:47.845551Z",
     "iopub.status.busy": "2024-05-25T08:40:47.844969Z",
     "iopub.status.idle": "2024-05-25T08:40:47.858931Z",
     "shell.execute_reply": "2024-05-25T08:40:47.858020Z"
    },
    "papermill": {
     "duration": 0.024625,
     "end_time": "2024-05-25T08:40:47.861181",
     "exception": false,
     "start_time": "2024-05-25T08:40:47.836556",
     "status": "completed"
    },
    "tags": []
   },
   "outputs": [],
   "source": [
    "cnn.compile(optimizer='adam', loss='sparse_categorical_crossentropy', metrics=['accuracy'])"
   ]
  },
  {
   "cell_type": "code",
   "execution_count": 20,
   "id": "774448f1",
   "metadata": {
    "execution": {
     "iopub.execute_input": "2024-05-25T08:40:47.877224Z",
     "iopub.status.busy": "2024-05-25T08:40:47.876895Z",
     "iopub.status.idle": "2024-05-25T08:40:47.906349Z",
     "shell.execute_reply": "2024-05-25T08:40:47.905443Z"
    },
    "papermill": {
     "duration": 0.039749,
     "end_time": "2024-05-25T08:40:47.908395",
     "exception": false,
     "start_time": "2024-05-25T08:40:47.868646",
     "status": "completed"
    },
    "tags": []
   },
   "outputs": [
    {
     "data": {
      "text/html": [
       "<pre style=\"white-space:pre;overflow-x:auto;line-height:normal;font-family:Menlo,'DejaVu Sans Mono',consolas,'Courier New',monospace\"><span style=\"font-weight: bold\">Model: \"sequential\"</span>\n",
       "</pre>\n"
      ],
      "text/plain": [
       "\u001b[1mModel: \"sequential\"\u001b[0m\n"
      ]
     },
     "metadata": {},
     "output_type": "display_data"
    },
    {
     "data": {
      "text/html": [
       "<pre style=\"white-space:pre;overflow-x:auto;line-height:normal;font-family:Menlo,'DejaVu Sans Mono',consolas,'Courier New',monospace\">┏━━━━━━━━━━━━━━━━━━━━━━━━━━━━━━━━━┳━━━━━━━━━━━━━━━━━━━━━━━━┳━━━━━━━━━━━━━━━┓\n",
       "┃<span style=\"font-weight: bold\"> Layer (type)                    </span>┃<span style=\"font-weight: bold\"> Output Shape           </span>┃<span style=\"font-weight: bold\">       Param # </span>┃\n",
       "┡━━━━━━━━━━━━━━━━━━━━━━━━━━━━━━━━━╇━━━━━━━━━━━━━━━━━━━━━━━━╇━━━━━━━━━━━━━━━┩\n",
       "│ conv2d (<span style=\"color: #0087ff; text-decoration-color: #0087ff\">Conv2D</span>)                 │ (<span style=\"color: #00d7ff; text-decoration-color: #00d7ff\">None</span>, <span style=\"color: #00af00; text-decoration-color: #00af00\">62</span>, <span style=\"color: #00af00; text-decoration-color: #00af00\">62</span>, <span style=\"color: #00af00; text-decoration-color: #00af00\">32</span>)     │           <span style=\"color: #00af00; text-decoration-color: #00af00\">320</span> │\n",
       "├─────────────────────────────────┼────────────────────────┼───────────────┤\n",
       "│ max_pooling2d (<span style=\"color: #0087ff; text-decoration-color: #0087ff\">MaxPooling2D</span>)    │ (<span style=\"color: #00d7ff; text-decoration-color: #00d7ff\">None</span>, <span style=\"color: #00af00; text-decoration-color: #00af00\">31</span>, <span style=\"color: #00af00; text-decoration-color: #00af00\">31</span>, <span style=\"color: #00af00; text-decoration-color: #00af00\">32</span>)     │             <span style=\"color: #00af00; text-decoration-color: #00af00\">0</span> │\n",
       "├─────────────────────────────────┼────────────────────────┼───────────────┤\n",
       "│ dropout (<span style=\"color: #0087ff; text-decoration-color: #0087ff\">Dropout</span>)               │ (<span style=\"color: #00d7ff; text-decoration-color: #00d7ff\">None</span>, <span style=\"color: #00af00; text-decoration-color: #00af00\">31</span>, <span style=\"color: #00af00; text-decoration-color: #00af00\">31</span>, <span style=\"color: #00af00; text-decoration-color: #00af00\">32</span>)     │             <span style=\"color: #00af00; text-decoration-color: #00af00\">0</span> │\n",
       "├─────────────────────────────────┼────────────────────────┼───────────────┤\n",
       "│ conv2d_1 (<span style=\"color: #0087ff; text-decoration-color: #0087ff\">Conv2D</span>)               │ (<span style=\"color: #00d7ff; text-decoration-color: #00d7ff\">None</span>, <span style=\"color: #00af00; text-decoration-color: #00af00\">29</span>, <span style=\"color: #00af00; text-decoration-color: #00af00\">29</span>, <span style=\"color: #00af00; text-decoration-color: #00af00\">64</span>)     │        <span style=\"color: #00af00; text-decoration-color: #00af00\">18,496</span> │\n",
       "├─────────────────────────────────┼────────────────────────┼───────────────┤\n",
       "│ max_pooling2d_1 (<span style=\"color: #0087ff; text-decoration-color: #0087ff\">MaxPooling2D</span>)  │ (<span style=\"color: #00d7ff; text-decoration-color: #00d7ff\">None</span>, <span style=\"color: #00af00; text-decoration-color: #00af00\">14</span>, <span style=\"color: #00af00; text-decoration-color: #00af00\">14</span>, <span style=\"color: #00af00; text-decoration-color: #00af00\">64</span>)     │             <span style=\"color: #00af00; text-decoration-color: #00af00\">0</span> │\n",
       "├─────────────────────────────────┼────────────────────────┼───────────────┤\n",
       "│ dropout_1 (<span style=\"color: #0087ff; text-decoration-color: #0087ff\">Dropout</span>)             │ (<span style=\"color: #00d7ff; text-decoration-color: #00d7ff\">None</span>, <span style=\"color: #00af00; text-decoration-color: #00af00\">14</span>, <span style=\"color: #00af00; text-decoration-color: #00af00\">14</span>, <span style=\"color: #00af00; text-decoration-color: #00af00\">64</span>)     │             <span style=\"color: #00af00; text-decoration-color: #00af00\">0</span> │\n",
       "├─────────────────────────────────┼────────────────────────┼───────────────┤\n",
       "│ conv2d_2 (<span style=\"color: #0087ff; text-decoration-color: #0087ff\">Conv2D</span>)               │ (<span style=\"color: #00d7ff; text-decoration-color: #00d7ff\">None</span>, <span style=\"color: #00af00; text-decoration-color: #00af00\">12</span>, <span style=\"color: #00af00; text-decoration-color: #00af00\">12</span>, <span style=\"color: #00af00; text-decoration-color: #00af00\">128</span>)    │        <span style=\"color: #00af00; text-decoration-color: #00af00\">73,856</span> │\n",
       "├─────────────────────────────────┼────────────────────────┼───────────────┤\n",
       "│ max_pooling2d_2 (<span style=\"color: #0087ff; text-decoration-color: #0087ff\">MaxPooling2D</span>)  │ (<span style=\"color: #00d7ff; text-decoration-color: #00d7ff\">None</span>, <span style=\"color: #00af00; text-decoration-color: #00af00\">6</span>, <span style=\"color: #00af00; text-decoration-color: #00af00\">6</span>, <span style=\"color: #00af00; text-decoration-color: #00af00\">128</span>)      │             <span style=\"color: #00af00; text-decoration-color: #00af00\">0</span> │\n",
       "├─────────────────────────────────┼────────────────────────┼───────────────┤\n",
       "│ dropout_2 (<span style=\"color: #0087ff; text-decoration-color: #0087ff\">Dropout</span>)             │ (<span style=\"color: #00d7ff; text-decoration-color: #00d7ff\">None</span>, <span style=\"color: #00af00; text-decoration-color: #00af00\">6</span>, <span style=\"color: #00af00; text-decoration-color: #00af00\">6</span>, <span style=\"color: #00af00; text-decoration-color: #00af00\">128</span>)      │             <span style=\"color: #00af00; text-decoration-color: #00af00\">0</span> │\n",
       "├─────────────────────────────────┼────────────────────────┼───────────────┤\n",
       "│ flatten (<span style=\"color: #0087ff; text-decoration-color: #0087ff\">Flatten</span>)               │ (<span style=\"color: #00d7ff; text-decoration-color: #00d7ff\">None</span>, <span style=\"color: #00af00; text-decoration-color: #00af00\">4608</span>)           │             <span style=\"color: #00af00; text-decoration-color: #00af00\">0</span> │\n",
       "├─────────────────────────────────┼────────────────────────┼───────────────┤\n",
       "│ dense (<span style=\"color: #0087ff; text-decoration-color: #0087ff\">Dense</span>)                   │ (<span style=\"color: #00d7ff; text-decoration-color: #00d7ff\">None</span>, <span style=\"color: #00af00; text-decoration-color: #00af00\">120</span>)            │       <span style=\"color: #00af00; text-decoration-color: #00af00\">553,080</span> │\n",
       "├─────────────────────────────────┼────────────────────────┼───────────────┤\n",
       "│ dropout_3 (<span style=\"color: #0087ff; text-decoration-color: #0087ff\">Dropout</span>)             │ (<span style=\"color: #00d7ff; text-decoration-color: #00d7ff\">None</span>, <span style=\"color: #00af00; text-decoration-color: #00af00\">120</span>)            │             <span style=\"color: #00af00; text-decoration-color: #00af00\">0</span> │\n",
       "├─────────────────────────────────┼────────────────────────┼───────────────┤\n",
       "│ dense_1 (<span style=\"color: #0087ff; text-decoration-color: #0087ff\">Dense</span>)                 │ (<span style=\"color: #00d7ff; text-decoration-color: #00d7ff\">None</span>, <span style=\"color: #00af00; text-decoration-color: #00af00\">6</span>)              │           <span style=\"color: #00af00; text-decoration-color: #00af00\">726</span> │\n",
       "└─────────────────────────────────┴────────────────────────┴───────────────┘\n",
       "</pre>\n"
      ],
      "text/plain": [
       "┏━━━━━━━━━━━━━━━━━━━━━━━━━━━━━━━━━┳━━━━━━━━━━━━━━━━━━━━━━━━┳━━━━━━━━━━━━━━━┓\n",
       "┃\u001b[1m \u001b[0m\u001b[1mLayer (type)                   \u001b[0m\u001b[1m \u001b[0m┃\u001b[1m \u001b[0m\u001b[1mOutput Shape          \u001b[0m\u001b[1m \u001b[0m┃\u001b[1m \u001b[0m\u001b[1m      Param #\u001b[0m\u001b[1m \u001b[0m┃\n",
       "┡━━━━━━━━━━━━━━━━━━━━━━━━━━━━━━━━━╇━━━━━━━━━━━━━━━━━━━━━━━━╇━━━━━━━━━━━━━━━┩\n",
       "│ conv2d (\u001b[38;5;33mConv2D\u001b[0m)                 │ (\u001b[38;5;45mNone\u001b[0m, \u001b[38;5;34m62\u001b[0m, \u001b[38;5;34m62\u001b[0m, \u001b[38;5;34m32\u001b[0m)     │           \u001b[38;5;34m320\u001b[0m │\n",
       "├─────────────────────────────────┼────────────────────────┼───────────────┤\n",
       "│ max_pooling2d (\u001b[38;5;33mMaxPooling2D\u001b[0m)    │ (\u001b[38;5;45mNone\u001b[0m, \u001b[38;5;34m31\u001b[0m, \u001b[38;5;34m31\u001b[0m, \u001b[38;5;34m32\u001b[0m)     │             \u001b[38;5;34m0\u001b[0m │\n",
       "├─────────────────────────────────┼────────────────────────┼───────────────┤\n",
       "│ dropout (\u001b[38;5;33mDropout\u001b[0m)               │ (\u001b[38;5;45mNone\u001b[0m, \u001b[38;5;34m31\u001b[0m, \u001b[38;5;34m31\u001b[0m, \u001b[38;5;34m32\u001b[0m)     │             \u001b[38;5;34m0\u001b[0m │\n",
       "├─────────────────────────────────┼────────────────────────┼───────────────┤\n",
       "│ conv2d_1 (\u001b[38;5;33mConv2D\u001b[0m)               │ (\u001b[38;5;45mNone\u001b[0m, \u001b[38;5;34m29\u001b[0m, \u001b[38;5;34m29\u001b[0m, \u001b[38;5;34m64\u001b[0m)     │        \u001b[38;5;34m18,496\u001b[0m │\n",
       "├─────────────────────────────────┼────────────────────────┼───────────────┤\n",
       "│ max_pooling2d_1 (\u001b[38;5;33mMaxPooling2D\u001b[0m)  │ (\u001b[38;5;45mNone\u001b[0m, \u001b[38;5;34m14\u001b[0m, \u001b[38;5;34m14\u001b[0m, \u001b[38;5;34m64\u001b[0m)     │             \u001b[38;5;34m0\u001b[0m │\n",
       "├─────────────────────────────────┼────────────────────────┼───────────────┤\n",
       "│ dropout_1 (\u001b[38;5;33mDropout\u001b[0m)             │ (\u001b[38;5;45mNone\u001b[0m, \u001b[38;5;34m14\u001b[0m, \u001b[38;5;34m14\u001b[0m, \u001b[38;5;34m64\u001b[0m)     │             \u001b[38;5;34m0\u001b[0m │\n",
       "├─────────────────────────────────┼────────────────────────┼───────────────┤\n",
       "│ conv2d_2 (\u001b[38;5;33mConv2D\u001b[0m)               │ (\u001b[38;5;45mNone\u001b[0m, \u001b[38;5;34m12\u001b[0m, \u001b[38;5;34m12\u001b[0m, \u001b[38;5;34m128\u001b[0m)    │        \u001b[38;5;34m73,856\u001b[0m │\n",
       "├─────────────────────────────────┼────────────────────────┼───────────────┤\n",
       "│ max_pooling2d_2 (\u001b[38;5;33mMaxPooling2D\u001b[0m)  │ (\u001b[38;5;45mNone\u001b[0m, \u001b[38;5;34m6\u001b[0m, \u001b[38;5;34m6\u001b[0m, \u001b[38;5;34m128\u001b[0m)      │             \u001b[38;5;34m0\u001b[0m │\n",
       "├─────────────────────────────────┼────────────────────────┼───────────────┤\n",
       "│ dropout_2 (\u001b[38;5;33mDropout\u001b[0m)             │ (\u001b[38;5;45mNone\u001b[0m, \u001b[38;5;34m6\u001b[0m, \u001b[38;5;34m6\u001b[0m, \u001b[38;5;34m128\u001b[0m)      │             \u001b[38;5;34m0\u001b[0m │\n",
       "├─────────────────────────────────┼────────────────────────┼───────────────┤\n",
       "│ flatten (\u001b[38;5;33mFlatten\u001b[0m)               │ (\u001b[38;5;45mNone\u001b[0m, \u001b[38;5;34m4608\u001b[0m)           │             \u001b[38;5;34m0\u001b[0m │\n",
       "├─────────────────────────────────┼────────────────────────┼───────────────┤\n",
       "│ dense (\u001b[38;5;33mDense\u001b[0m)                   │ (\u001b[38;5;45mNone\u001b[0m, \u001b[38;5;34m120\u001b[0m)            │       \u001b[38;5;34m553,080\u001b[0m │\n",
       "├─────────────────────────────────┼────────────────────────┼───────────────┤\n",
       "│ dropout_3 (\u001b[38;5;33mDropout\u001b[0m)             │ (\u001b[38;5;45mNone\u001b[0m, \u001b[38;5;34m120\u001b[0m)            │             \u001b[38;5;34m0\u001b[0m │\n",
       "├─────────────────────────────────┼────────────────────────┼───────────────┤\n",
       "│ dense_1 (\u001b[38;5;33mDense\u001b[0m)                 │ (\u001b[38;5;45mNone\u001b[0m, \u001b[38;5;34m6\u001b[0m)              │           \u001b[38;5;34m726\u001b[0m │\n",
       "└─────────────────────────────────┴────────────────────────┴───────────────┘\n"
      ]
     },
     "metadata": {},
     "output_type": "display_data"
    },
    {
     "data": {
      "text/html": [
       "<pre style=\"white-space:pre;overflow-x:auto;line-height:normal;font-family:Menlo,'DejaVu Sans Mono',consolas,'Courier New',monospace\"><span style=\"font-weight: bold\"> Total params: </span><span style=\"color: #00af00; text-decoration-color: #00af00\">646,478</span> (2.47 MB)\n",
       "</pre>\n"
      ],
      "text/plain": [
       "\u001b[1m Total params: \u001b[0m\u001b[38;5;34m646,478\u001b[0m (2.47 MB)\n"
      ]
     },
     "metadata": {},
     "output_type": "display_data"
    },
    {
     "data": {
      "text/html": [
       "<pre style=\"white-space:pre;overflow-x:auto;line-height:normal;font-family:Menlo,'DejaVu Sans Mono',consolas,'Courier New',monospace\"><span style=\"font-weight: bold\"> Trainable params: </span><span style=\"color: #00af00; text-decoration-color: #00af00\">646,478</span> (2.47 MB)\n",
       "</pre>\n"
      ],
      "text/plain": [
       "\u001b[1m Trainable params: \u001b[0m\u001b[38;5;34m646,478\u001b[0m (2.47 MB)\n"
      ]
     },
     "metadata": {},
     "output_type": "display_data"
    },
    {
     "data": {
      "text/html": [
       "<pre style=\"white-space:pre;overflow-x:auto;line-height:normal;font-family:Menlo,'DejaVu Sans Mono',consolas,'Courier New',monospace\"><span style=\"font-weight: bold\"> Non-trainable params: </span><span style=\"color: #00af00; text-decoration-color: #00af00\">0</span> (0.00 B)\n",
       "</pre>\n"
      ],
      "text/plain": [
       "\u001b[1m Non-trainable params: \u001b[0m\u001b[38;5;34m0\u001b[0m (0.00 B)\n"
      ]
     },
     "metadata": {},
     "output_type": "display_data"
    }
   ],
   "source": [
    "cnn.summary()"
   ]
  },
  {
   "cell_type": "code",
   "execution_count": 21,
   "id": "fb1775bf",
   "metadata": {
    "execution": {
     "iopub.execute_input": "2024-05-25T08:40:47.926647Z",
     "iopub.status.busy": "2024-05-25T08:40:47.925898Z",
     "iopub.status.idle": "2024-05-25T08:41:41.711919Z",
     "shell.execute_reply": "2024-05-25T08:41:41.711035Z"
    },
    "papermill": {
     "duration": 53.797713,
     "end_time": "2024-05-25T08:41:41.714575",
     "exception": false,
     "start_time": "2024-05-25T08:40:47.916862",
     "status": "completed"
    },
    "tags": []
   },
   "outputs": [
    {
     "name": "stdout",
     "output_type": "stream",
     "text": [
      "Epoch 1/25\n"
     ]
    },
    {
     "name": "stderr",
     "output_type": "stream",
     "text": [
      "2024-05-25 08:40:53.631449: E external/local_xla/xla/service/gpu/buffer_comparator.cc:1137] Difference at 3844: 3.50622, expected 2.90338\n",
      "2024-05-25 08:40:53.631511: E external/local_xla/xla/service/gpu/buffer_comparator.cc:1137] Difference at 3845: 2.89383, expected 2.29098\n",
      "2024-05-25 08:40:53.631520: E external/local_xla/xla/service/gpu/buffer_comparator.cc:1137] Difference at 3846: 2.45266, expected 1.84981\n",
      "2024-05-25 08:40:53.631528: E external/local_xla/xla/service/gpu/buffer_comparator.cc:1137] Difference at 3847: 3.22924, expected 2.6264\n",
      "2024-05-25 08:40:53.631536: E external/local_xla/xla/service/gpu/buffer_comparator.cc:1137] Difference at 3848: 3.88833, expected 3.28549\n",
      "2024-05-25 08:40:53.631543: E external/local_xla/xla/service/gpu/buffer_comparator.cc:1137] Difference at 3849: 4.2225, expected 3.61966\n",
      "2024-05-25 08:40:53.631551: E external/local_xla/xla/service/gpu/buffer_comparator.cc:1137] Difference at 3850: 3.66357, expected 3.06072\n",
      "2024-05-25 08:40:53.631559: E external/local_xla/xla/service/gpu/buffer_comparator.cc:1137] Difference at 3851: 2.65074, expected 2.0479\n",
      "2024-05-25 08:40:53.631566: E external/local_xla/xla/service/gpu/buffer_comparator.cc:1137] Difference at 3852: 2.06911, expected 1.46627\n",
      "2024-05-25 08:40:53.631574: E external/local_xla/xla/service/gpu/buffer_comparator.cc:1137] Difference at 3853: 2.85866, expected 2.25581\n",
      "2024-05-25 08:40:53.632441: E external/local_xla/xla/service/gpu/conv_algorithm_picker.cc:705] Results mismatch between different convolution algorithms. This is likely a bug/unexpected loss of precision in cudnn.\n",
      "(f32[32,32,62,62]{3,2,1,0}, u8[0]{0}) custom-call(f32[32,1,64,64]{3,2,1,0}, f32[32,1,3,3]{3,2,1,0}, f32[32]{0}), window={size=3x3}, dim_labels=bf01_oi01->bf01, custom_call_target=\"__cudnn$convBiasActivationForward\", backend_config={\"conv_result_scale\":1,\"activation_mode\":\"kRelu\",\"side_input_scale\":0,\"leakyrelu_alpha\":0} for eng20{k2=2,k4=1,k5=1,k6=0,k7=0} vs eng15{k5=1,k6=0,k7=1,k10=1}\n",
      "2024-05-25 08:40:53.632481: E external/local_xla/xla/service/gpu/conv_algorithm_picker.cc:270] Device: Tesla P100-PCIE-16GB\n",
      "2024-05-25 08:40:53.632490: E external/local_xla/xla/service/gpu/conv_algorithm_picker.cc:271] Platform: Compute Capability 6.0\n",
      "2024-05-25 08:40:53.632501: E external/local_xla/xla/service/gpu/conv_algorithm_picker.cc:272] Driver: 12020 (535.129.3)\n",
      "2024-05-25 08:40:53.632513: E external/local_xla/xla/service/gpu/conv_algorithm_picker.cc:273] Runtime: <undefined>\n",
      "2024-05-25 08:40:53.632533: E external/local_xla/xla/service/gpu/conv_algorithm_picker.cc:280] cudnn version: 8.9.0\n",
      "2024-05-25 08:40:53.770784: E external/local_xla/xla/service/gpu/buffer_comparator.cc:1137] Difference at 3844: 3.50622, expected 2.90338\n",
      "2024-05-25 08:40:53.770846: E external/local_xla/xla/service/gpu/buffer_comparator.cc:1137] Difference at 3845: 2.89383, expected 2.29098\n",
      "2024-05-25 08:40:53.770860: E external/local_xla/xla/service/gpu/buffer_comparator.cc:1137] Difference at 3846: 2.45266, expected 1.84981\n",
      "2024-05-25 08:40:53.770873: E external/local_xla/xla/service/gpu/buffer_comparator.cc:1137] Difference at 3847: 3.22924, expected 2.6264\n",
      "2024-05-25 08:40:53.770886: E external/local_xla/xla/service/gpu/buffer_comparator.cc:1137] Difference at 3848: 3.88833, expected 3.28549\n",
      "2024-05-25 08:40:53.770896: E external/local_xla/xla/service/gpu/buffer_comparator.cc:1137] Difference at 3849: 4.2225, expected 3.61966\n",
      "2024-05-25 08:40:53.770907: E external/local_xla/xla/service/gpu/buffer_comparator.cc:1137] Difference at 3850: 3.66357, expected 3.06072\n",
      "2024-05-25 08:40:53.770917: E external/local_xla/xla/service/gpu/buffer_comparator.cc:1137] Difference at 3851: 2.65074, expected 2.0479\n",
      "2024-05-25 08:40:53.770927: E external/local_xla/xla/service/gpu/buffer_comparator.cc:1137] Difference at 3852: 2.06911, expected 1.46627\n",
      "2024-05-25 08:40:53.770938: E external/local_xla/xla/service/gpu/buffer_comparator.cc:1137] Difference at 3853: 2.85866, expected 2.25581\n",
      "2024-05-25 08:40:53.772737: E external/local_xla/xla/service/gpu/conv_algorithm_picker.cc:705] Results mismatch between different convolution algorithms. This is likely a bug/unexpected loss of precision in cudnn.\n",
      "(f32[32,32,62,62]{3,2,1,0}, u8[0]{0}) custom-call(f32[32,1,64,64]{3,2,1,0}, f32[32,1,3,3]{3,2,1,0}, f32[32]{0}), window={size=3x3}, dim_labels=bf01_oi01->bf01, custom_call_target=\"__cudnn$convBiasActivationForward\", backend_config={\"conv_result_scale\":1,\"activation_mode\":\"kRelu\",\"side_input_scale\":0,\"leakyrelu_alpha\":0} for eng20{k2=2,k4=1,k5=1,k6=0,k7=0} vs eng15{k5=1,k6=0,k7=1,k10=1}\n",
      "2024-05-25 08:40:53.772770: E external/local_xla/xla/service/gpu/conv_algorithm_picker.cc:270] Device: Tesla P100-PCIE-16GB\n",
      "2024-05-25 08:40:53.772785: E external/local_xla/xla/service/gpu/conv_algorithm_picker.cc:271] Platform: Compute Capability 6.0\n",
      "2024-05-25 08:40:53.772800: E external/local_xla/xla/service/gpu/conv_algorithm_picker.cc:272] Driver: 12020 (535.129.3)\n",
      "2024-05-25 08:40:53.772811: E external/local_xla/xla/service/gpu/conv_algorithm_picker.cc:273] Runtime: <undefined>\n",
      "2024-05-25 08:40:53.772831: E external/local_xla/xla/service/gpu/conv_algorithm_picker.cc:280] cudnn version: 8.9.0\n"
     ]
    },
    {
     "name": "stdout",
     "output_type": "stream",
     "text": [
      "\u001b[1m 39/310\u001b[0m \u001b[32m━━\u001b[0m\u001b[37m━━━━━━━━━━━━━━━━━━\u001b[0m \u001b[1m1s\u001b[0m 4ms/step - accuracy: 0.2535 - loss: 1.7014"
     ]
    },
    {
     "name": "stderr",
     "output_type": "stream",
     "text": [
      "WARNING: All log messages before absl::InitializeLog() is called are written to STDERR\n",
      "I0000 00:00:1716626458.054024      71 device_compiler.h:186] Compiled cluster using XLA!  This line is logged at most once for the lifetime of the process.\n"
     ]
    },
    {
     "name": "stdout",
     "output_type": "stream",
     "text": [
      "\u001b[1m310/310\u001b[0m \u001b[32m━━━━━━━━━━━━━━━━━━━━\u001b[0m\u001b[37m\u001b[0m \u001b[1m0s\u001b[0m 24ms/step - accuracy: 0.2773 - loss: 1.6367"
     ]
    },
    {
     "name": "stderr",
     "output_type": "stream",
     "text": [
      "2024-05-25 08:41:06.448992: E external/local_xla/xla/service/gpu/buffer_comparator.cc:1137] Difference at 8: 1.7144, expected 1.41043\n",
      "2024-05-25 08:41:06.449060: E external/local_xla/xla/service/gpu/buffer_comparator.cc:1137] Difference at 9: 1.73872, expected 1.43476\n",
      "2024-05-25 08:41:06.449070: E external/local_xla/xla/service/gpu/buffer_comparator.cc:1137] Difference at 12: 2.03006, expected 1.7261\n",
      "2024-05-25 08:41:06.449080: E external/local_xla/xla/service/gpu/buffer_comparator.cc:1137] Difference at 30: 1.98496, expected 1.681\n",
      "2024-05-25 08:41:06.449087: E external/local_xla/xla/service/gpu/buffer_comparator.cc:1137] Difference at 42: 1.75918, expected 1.45522\n",
      "2024-05-25 08:41:06.449095: E external/local_xla/xla/service/gpu/buffer_comparator.cc:1137] Difference at 53: 1.7415, expected 1.43753\n",
      "2024-05-25 08:41:06.449103: E external/local_xla/xla/service/gpu/buffer_comparator.cc:1137] Difference at 54: 1.74983, expected 1.44587\n",
      "2024-05-25 08:41:06.449110: E external/local_xla/xla/service/gpu/buffer_comparator.cc:1137] Difference at 57: 1.91337, expected 1.60941\n",
      "2024-05-25 08:41:06.449118: E external/local_xla/xla/service/gpu/buffer_comparator.cc:1137] Difference at 64: 1.54983, expected 1.24587\n",
      "2024-05-25 08:41:06.449134: E external/local_xla/xla/service/gpu/buffer_comparator.cc:1137] Difference at 65: 1.61463, expected 1.31067\n",
      "2024-05-25 08:41:06.449150: E external/local_xla/xla/service/gpu/conv_algorithm_picker.cc:705] Results mismatch between different convolution algorithms. This is likely a bug/unexpected loss of precision in cudnn.\n",
      "(f32[9,32,62,62]{3,2,1,0}, u8[0]{0}) custom-call(f32[9,1,64,64]{3,2,1,0}, f32[32,1,3,3]{3,2,1,0}, f32[32]{0}), window={size=3x3}, dim_labels=bf01_oi01->bf01, custom_call_target=\"__cudnn$convBiasActivationForward\", backend_config={\"conv_result_scale\":1,\"activation_mode\":\"kRelu\",\"side_input_scale\":0,\"leakyrelu_alpha\":0} for eng20{k2=2,k4=1,k5=1,k6=0,k7=0} vs eng15{k5=1,k6=0,k7=1,k10=1}\n",
      "2024-05-25 08:41:06.449158: E external/local_xla/xla/service/gpu/conv_algorithm_picker.cc:270] Device: Tesla P100-PCIE-16GB\n",
      "2024-05-25 08:41:06.449165: E external/local_xla/xla/service/gpu/conv_algorithm_picker.cc:271] Platform: Compute Capability 6.0\n",
      "2024-05-25 08:41:06.449172: E external/local_xla/xla/service/gpu/conv_algorithm_picker.cc:272] Driver: 12020 (535.129.3)\n",
      "2024-05-25 08:41:06.449179: E external/local_xla/xla/service/gpu/conv_algorithm_picker.cc:273] Runtime: <undefined>\n",
      "2024-05-25 08:41:06.449190: E external/local_xla/xla/service/gpu/conv_algorithm_picker.cc:280] cudnn version: 8.9.0\n",
      "2024-05-25 08:41:06.474024: E external/local_xla/xla/service/gpu/buffer_comparator.cc:1137] Difference at 8: 1.7144, expected 1.41043\n",
      "2024-05-25 08:41:06.474072: E external/local_xla/xla/service/gpu/buffer_comparator.cc:1137] Difference at 9: 1.73872, expected 1.43476\n",
      "2024-05-25 08:41:06.474081: E external/local_xla/xla/service/gpu/buffer_comparator.cc:1137] Difference at 12: 2.03006, expected 1.7261\n",
      "2024-05-25 08:41:06.474090: E external/local_xla/xla/service/gpu/buffer_comparator.cc:1137] Difference at 30: 1.98496, expected 1.681\n",
      "2024-05-25 08:41:06.474098: E external/local_xla/xla/service/gpu/buffer_comparator.cc:1137] Difference at 42: 1.75918, expected 1.45522\n",
      "2024-05-25 08:41:06.474106: E external/local_xla/xla/service/gpu/buffer_comparator.cc:1137] Difference at 53: 1.7415, expected 1.43753\n",
      "2024-05-25 08:41:06.474113: E external/local_xla/xla/service/gpu/buffer_comparator.cc:1137] Difference at 54: 1.74983, expected 1.44587\n",
      "2024-05-25 08:41:06.474121: E external/local_xla/xla/service/gpu/buffer_comparator.cc:1137] Difference at 57: 1.91337, expected 1.60941\n",
      "2024-05-25 08:41:06.474139: E external/local_xla/xla/service/gpu/buffer_comparator.cc:1137] Difference at 64: 1.54983, expected 1.24587\n",
      "2024-05-25 08:41:06.474147: E external/local_xla/xla/service/gpu/buffer_comparator.cc:1137] Difference at 65: 1.61463, expected 1.31067\n",
      "2024-05-25 08:41:06.474167: E external/local_xla/xla/service/gpu/conv_algorithm_picker.cc:705] Results mismatch between different convolution algorithms. This is likely a bug/unexpected loss of precision in cudnn.\n",
      "(f32[9,32,62,62]{3,2,1,0}, u8[0]{0}) custom-call(f32[9,1,64,64]{3,2,1,0}, f32[32,1,3,3]{3,2,1,0}, f32[32]{0}), window={size=3x3}, dim_labels=bf01_oi01->bf01, custom_call_target=\"__cudnn$convBiasActivationForward\", backend_config={\"conv_result_scale\":1,\"activation_mode\":\"kRelu\",\"side_input_scale\":0,\"leakyrelu_alpha\":0} for eng20{k2=2,k4=1,k5=1,k6=0,k7=0} vs eng15{k5=1,k6=0,k7=1,k10=1}\n",
      "2024-05-25 08:41:06.474182: E external/local_xla/xla/service/gpu/conv_algorithm_picker.cc:270] Device: Tesla P100-PCIE-16GB\n",
      "2024-05-25 08:41:06.474192: E external/local_xla/xla/service/gpu/conv_algorithm_picker.cc:271] Platform: Compute Capability 6.0\n",
      "2024-05-25 08:41:06.474203: E external/local_xla/xla/service/gpu/conv_algorithm_picker.cc:272] Driver: 12020 (535.129.3)\n",
      "2024-05-25 08:41:06.474214: E external/local_xla/xla/service/gpu/conv_algorithm_picker.cc:273] Runtime: <undefined>\n",
      "2024-05-25 08:41:06.474231: E external/local_xla/xla/service/gpu/conv_algorithm_picker.cc:280] cudnn version: 8.9.0\n"
     ]
    },
    {
     "name": "stdout",
     "output_type": "stream",
     "text": [
      "\u001b[1m310/310\u001b[0m \u001b[32m━━━━━━━━━━━━━━━━━━━━\u001b[0m\u001b[37m\u001b[0m \u001b[1m19s\u001b[0m 29ms/step - accuracy: 0.2774 - loss: 1.6364 - val_accuracy: 0.4254 - val_loss: 1.3712\n",
      "Epoch 2/25\n",
      "\u001b[1m310/310\u001b[0m \u001b[32m━━━━━━━━━━━━━━━━━━━━\u001b[0m\u001b[37m\u001b[0m \u001b[1m1s\u001b[0m 4ms/step - accuracy: 0.4324 - loss: 1.3600 - val_accuracy: 0.5317 - val_loss: 1.1427\n",
      "Epoch 3/25\n",
      "\u001b[1m310/310\u001b[0m \u001b[32m━━━━━━━━━━━━━━━━━━━━\u001b[0m\u001b[37m\u001b[0m \u001b[1m1s\u001b[0m 4ms/step - accuracy: 0.5026 - loss: 1.2155 - val_accuracy: 0.5912 - val_loss: 1.0289\n",
      "Epoch 4/25\n",
      "\u001b[1m310/310\u001b[0m \u001b[32m━━━━━━━━━━━━━━━━━━━━\u001b[0m\u001b[37m\u001b[0m \u001b[1m1s\u001b[0m 4ms/step - accuracy: 0.5647 - loss: 1.0629 - val_accuracy: 0.6215 - val_loss: 0.9901\n",
      "Epoch 5/25\n",
      "\u001b[1m310/310\u001b[0m \u001b[32m━━━━━━━━━━━━━━━━━━━━\u001b[0m\u001b[37m\u001b[0m \u001b[1m1s\u001b[0m 4ms/step - accuracy: 0.5838 - loss: 1.0391 - val_accuracy: 0.6231 - val_loss: 0.9645\n",
      "Epoch 6/25\n",
      "\u001b[1m310/310\u001b[0m \u001b[32m━━━━━━━━━━━━━━━━━━━━\u001b[0m\u001b[37m\u001b[0m \u001b[1m1s\u001b[0m 4ms/step - accuracy: 0.6107 - loss: 0.9728 - val_accuracy: 0.6522 - val_loss: 0.9008\n",
      "Epoch 7/25\n",
      "\u001b[1m310/310\u001b[0m \u001b[32m━━━━━━━━━━━━━━━━━━━━\u001b[0m\u001b[37m\u001b[0m \u001b[1m1s\u001b[0m 4ms/step - accuracy: 0.6028 - loss: 0.9600 - val_accuracy: 0.6567 - val_loss: 0.8958\n",
      "Epoch 8/25\n",
      "\u001b[1m310/310\u001b[0m \u001b[32m━━━━━━━━━━━━━━━━━━━━\u001b[0m\u001b[37m\u001b[0m \u001b[1m1s\u001b[0m 4ms/step - accuracy: 0.6343 - loss: 0.9050 - val_accuracy: 0.6704 - val_loss: 0.9230\n",
      "Epoch 9/25\n",
      "\u001b[1m310/310\u001b[0m \u001b[32m━━━━━━━━━━━━━━━━━━━━\u001b[0m\u001b[37m\u001b[0m \u001b[1m1s\u001b[0m 4ms/step - accuracy: 0.6593 - loss: 0.8397 - val_accuracy: 0.6680 - val_loss: 0.9268\n",
      "Epoch 10/25\n",
      "\u001b[1m310/310\u001b[0m \u001b[32m━━━━━━━━━━━━━━━━━━━━\u001b[0m\u001b[37m\u001b[0m \u001b[1m1s\u001b[0m 4ms/step - accuracy: 0.6628 - loss: 0.8394 - val_accuracy: 0.6717 - val_loss: 0.9736\n",
      "Epoch 11/25\n",
      "\u001b[1m310/310\u001b[0m \u001b[32m━━━━━━━━━━━━━━━━━━━━\u001b[0m\u001b[37m\u001b[0m \u001b[1m1s\u001b[0m 4ms/step - accuracy: 0.6171 - loss: 0.9468 - val_accuracy: 0.6607 - val_loss: 1.0496\n",
      "Epoch 12/25\n",
      "\u001b[1m310/310\u001b[0m \u001b[32m━━━━━━━━━━━━━━━━━━━━\u001b[0m\u001b[37m\u001b[0m \u001b[1m1s\u001b[0m 5ms/step - accuracy: 0.4348 - loss: 1.3790 - val_accuracy: 0.6284 - val_loss: 1.3740\n",
      "Epoch 13/25\n",
      "\u001b[1m310/310\u001b[0m \u001b[32m━━━━━━━━━━━━━━━━━━━━\u001b[0m\u001b[37m\u001b[0m \u001b[1m1s\u001b[0m 4ms/step - accuracy: 0.5338 - loss: 1.1702 - val_accuracy: 0.6603 - val_loss: 1.1727\n",
      "Epoch 14/25\n",
      "\u001b[1m310/310\u001b[0m \u001b[32m━━━━━━━━━━━━━━━━━━━━\u001b[0m\u001b[37m\u001b[0m \u001b[1m1s\u001b[0m 4ms/step - accuracy: 0.6345 - loss: 0.9055 - val_accuracy: 0.6603 - val_loss: 1.0887\n",
      "Epoch 15/25\n",
      "\u001b[1m310/310\u001b[0m \u001b[32m━━━━━━━━━━━━━━━━━━━━\u001b[0m\u001b[37m\u001b[0m \u001b[1m1s\u001b[0m 4ms/step - accuracy: 0.5225 - loss: 1.1492 - val_accuracy: 0.6615 - val_loss: 1.2743\n",
      "Epoch 16/25\n",
      "\u001b[1m310/310\u001b[0m \u001b[32m━━━━━━━━━━━━━━━━━━━━\u001b[0m\u001b[37m\u001b[0m \u001b[1m1s\u001b[0m 4ms/step - accuracy: 0.6008 - loss: 0.9815 - val_accuracy: 0.6761 - val_loss: 1.1488\n",
      "Epoch 17/25\n",
      "\u001b[1m310/310\u001b[0m \u001b[32m━━━━━━━━━━━━━━━━━━━━\u001b[0m\u001b[37m\u001b[0m \u001b[1m1s\u001b[0m 4ms/step - accuracy: 0.6506 - loss: 0.8583 - val_accuracy: 0.6797 - val_loss: 0.9331\n",
      "Epoch 18/25\n",
      "\u001b[1m310/310\u001b[0m \u001b[32m━━━━━━━━━━━━━━━━━━━━\u001b[0m\u001b[37m\u001b[0m \u001b[1m1s\u001b[0m 5ms/step - accuracy: 0.5945 - loss: 1.0248 - val_accuracy: 0.6543 - val_loss: 1.0461\n",
      "Epoch 19/25\n",
      "\u001b[1m310/310\u001b[0m \u001b[32m━━━━━━━━━━━━━━━━━━━━\u001b[0m\u001b[37m\u001b[0m \u001b[1m1s\u001b[0m 5ms/step - accuracy: 0.6542 - loss: 0.8199 - val_accuracy: 0.6834 - val_loss: 1.0078\n",
      "Epoch 20/25\n",
      "\u001b[1m310/310\u001b[0m \u001b[32m━━━━━━━━━━━━━━━━━━━━\u001b[0m\u001b[37m\u001b[0m \u001b[1m3s\u001b[0m 4ms/step - accuracy: 0.7090 - loss: 0.7284 - val_accuracy: 0.6927 - val_loss: 1.0449\n",
      "Epoch 21/25\n",
      "\u001b[1m310/310\u001b[0m \u001b[32m━━━━━━━━━━━━━━━━━━━━\u001b[0m\u001b[37m\u001b[0m \u001b[1m1s\u001b[0m 5ms/step - accuracy: 0.6997 - loss: 0.7164 - val_accuracy: 0.6785 - val_loss: 1.0446\n",
      "Epoch 22/25\n",
      "\u001b[1m310/310\u001b[0m \u001b[32m━━━━━━━━━━━━━━━━━━━━\u001b[0m\u001b[37m\u001b[0m \u001b[1m1s\u001b[0m 5ms/step - accuracy: 0.6632 - loss: 0.8351 - val_accuracy: 0.6805 - val_loss: 1.0202\n",
      "Epoch 23/25\n",
      "\u001b[1m310/310\u001b[0m \u001b[32m━━━━━━━━━━━━━━━━━━━━\u001b[0m\u001b[37m\u001b[0m \u001b[1m1s\u001b[0m 5ms/step - accuracy: 0.7070 - loss: 0.7131 - val_accuracy: 0.6793 - val_loss: 1.0544\n",
      "Epoch 24/25\n",
      "\u001b[1m310/310\u001b[0m \u001b[32m━━━━━━━━━━━━━━━━━━━━\u001b[0m\u001b[37m\u001b[0m \u001b[1m1s\u001b[0m 4ms/step - accuracy: 0.7205 - loss: 0.6732 - val_accuracy: 0.6765 - val_loss: 1.0272\n",
      "Epoch 25/25\n",
      "\u001b[1m310/310\u001b[0m \u001b[32m━━━━━━━━━━━━━━━━━━━━\u001b[0m\u001b[37m\u001b[0m \u001b[1m1s\u001b[0m 4ms/step - accuracy: 0.6968 - loss: 0.7160 - val_accuracy: 0.6874 - val_loss: 1.0615\n"
     ]
    }
   ],
   "source": [
    "history = cnn.fit(x_train, y_train, epochs=25, batch_size=32, validation_split=0.2)"
   ]
  },
  {
   "cell_type": "code",
   "execution_count": 22,
   "id": "16e8baf1",
   "metadata": {
    "execution": {
     "iopub.execute_input": "2024-05-25T08:41:41.839568Z",
     "iopub.status.busy": "2024-05-25T08:41:41.839142Z",
     "iopub.status.idle": "2024-05-25T08:42:53.751105Z",
     "shell.execute_reply": "2024-05-25T08:42:53.750204Z"
    },
    "papermill": {
     "duration": 71.977221,
     "end_time": "2024-05-25T08:42:53.753569",
     "exception": false,
     "start_time": "2024-05-25T08:41:41.776348",
     "status": "completed"
    },
    "tags": []
   },
   "outputs": [
    {
     "name": "stdout",
     "output_type": "stream",
     "text": [
      "Epoch 1/50\n",
      "\u001b[1m310/310\u001b[0m \u001b[32m━━━━━━━━━━━━━━━━━━━━\u001b[0m\u001b[37m\u001b[0m \u001b[1m2s\u001b[0m 5ms/step - accuracy: 0.7225 - loss: 0.6934 - val_accuracy: 0.6894 - val_loss: 0.9932\n",
      "Epoch 2/50\n",
      "\u001b[1m310/310\u001b[0m \u001b[32m━━━━━━━━━━━━━━━━━━━━\u001b[0m\u001b[37m\u001b[0m \u001b[1m1s\u001b[0m 4ms/step - accuracy: 0.6984 - loss: 0.7643 - val_accuracy: 0.6826 - val_loss: 1.0361\n",
      "Epoch 3/50\n",
      "\u001b[1m310/310\u001b[0m \u001b[32m━━━━━━━━━━━━━━━━━━━━\u001b[0m\u001b[37m\u001b[0m \u001b[1m1s\u001b[0m 4ms/step - accuracy: 0.6753 - loss: 0.7672 - val_accuracy: 0.6899 - val_loss: 1.0836\n",
      "Epoch 4/50\n",
      "\u001b[1m310/310\u001b[0m \u001b[32m━━━━━━━━━━━━━━━━━━━━\u001b[0m\u001b[37m\u001b[0m \u001b[1m1s\u001b[0m 4ms/step - accuracy: 0.7260 - loss: 0.6481 - val_accuracy: 0.6797 - val_loss: 1.0783\n",
      "Epoch 5/50\n",
      "\u001b[1m310/310\u001b[0m \u001b[32m━━━━━━━━━━━━━━━━━━━━\u001b[0m\u001b[37m\u001b[0m \u001b[1m1s\u001b[0m 4ms/step - accuracy: 0.7385 - loss: 0.6350 - val_accuracy: 0.6866 - val_loss: 1.1614\n",
      "Epoch 6/50\n",
      "\u001b[1m310/310\u001b[0m \u001b[32m━━━━━━━━━━━━━━━━━━━━\u001b[0m\u001b[37m\u001b[0m \u001b[1m1s\u001b[0m 5ms/step - accuracy: 0.7408 - loss: 0.6248 - val_accuracy: 0.6672 - val_loss: 1.4891\n",
      "Epoch 7/50\n",
      "\u001b[1m310/310\u001b[0m \u001b[32m━━━━━━━━━━━━━━━━━━━━\u001b[0m\u001b[37m\u001b[0m \u001b[1m1s\u001b[0m 5ms/step - accuracy: 0.3770 - loss: 1.5500 - val_accuracy: 0.4804 - val_loss: 4.5378\n",
      "Epoch 8/50\n",
      "\u001b[1m310/310\u001b[0m \u001b[32m━━━━━━━━━━━━━━━━━━━━\u001b[0m\u001b[37m\u001b[0m \u001b[1m1s\u001b[0m 5ms/step - accuracy: 0.4713 - loss: 1.3188 - val_accuracy: 0.5827 - val_loss: 3.2897\n",
      "Epoch 9/50\n",
      "\u001b[1m310/310\u001b[0m \u001b[32m━━━━━━━━━━━━━━━━━━━━\u001b[0m\u001b[37m\u001b[0m \u001b[1m1s\u001b[0m 4ms/step - accuracy: 0.5595 - loss: 1.1006 - val_accuracy: 0.6284 - val_loss: 1.7031\n",
      "Epoch 10/50\n",
      "\u001b[1m310/310\u001b[0m \u001b[32m━━━━━━━━━━━━━━━━━━━━\u001b[0m\u001b[37m\u001b[0m \u001b[1m1s\u001b[0m 5ms/step - accuracy: 0.6251 - loss: 0.9278 - val_accuracy: 0.6899 - val_loss: 1.3251\n",
      "Epoch 11/50\n",
      "\u001b[1m310/310\u001b[0m \u001b[32m━━━━━━━━━━━━━━━━━━━━\u001b[0m\u001b[37m\u001b[0m \u001b[1m1s\u001b[0m 5ms/step - accuracy: 0.6883 - loss: 0.7894 - val_accuracy: 0.6789 - val_loss: 1.2512\n",
      "Epoch 12/50\n",
      "\u001b[1m310/310\u001b[0m \u001b[32m━━━━━━━━━━━━━━━━━━━━\u001b[0m\u001b[37m\u001b[0m \u001b[1m1s\u001b[0m 5ms/step - accuracy: 0.7413 - loss: 0.6451 - val_accuracy: 0.6757 - val_loss: 1.3654\n",
      "Epoch 13/50\n",
      "\u001b[1m310/310\u001b[0m \u001b[32m━━━━━━━━━━━━━━━━━━━━\u001b[0m\u001b[37m\u001b[0m \u001b[1m1s\u001b[0m 5ms/step - accuracy: 0.5135 - loss: 1.2138 - val_accuracy: 0.6219 - val_loss: 2.5417\n",
      "Epoch 14/50\n",
      "\u001b[1m310/310\u001b[0m \u001b[32m━━━━━━━━━━━━━━━━━━━━\u001b[0m\u001b[37m\u001b[0m \u001b[1m1s\u001b[0m 5ms/step - accuracy: 0.6224 - loss: 0.9499 - val_accuracy: 0.6696 - val_loss: 1.4311\n",
      "Epoch 15/50\n",
      "\u001b[1m310/310\u001b[0m \u001b[32m━━━━━━━━━━━━━━━━━━━━\u001b[0m\u001b[37m\u001b[0m \u001b[1m1s\u001b[0m 5ms/step - accuracy: 0.6510 - loss: 0.8318 - val_accuracy: 0.6801 - val_loss: 1.3456\n",
      "Epoch 16/50\n",
      "\u001b[1m310/310\u001b[0m \u001b[32m━━━━━━━━━━━━━━━━━━━━\u001b[0m\u001b[37m\u001b[0m \u001b[1m1s\u001b[0m 4ms/step - accuracy: 0.7341 - loss: 0.6680 - val_accuracy: 0.6886 - val_loss: 1.1575\n",
      "Epoch 17/50\n",
      "\u001b[1m310/310\u001b[0m \u001b[32m━━━━━━━━━━━━━━━━━━━━\u001b[0m\u001b[37m\u001b[0m \u001b[1m1s\u001b[0m 4ms/step - accuracy: 0.6864 - loss: 0.7769 - val_accuracy: 0.6692 - val_loss: 1.0764\n",
      "Epoch 18/50\n",
      "\u001b[1m310/310\u001b[0m \u001b[32m━━━━━━━━━━━━━━━━━━━━\u001b[0m\u001b[37m\u001b[0m \u001b[1m1s\u001b[0m 5ms/step - accuracy: 0.6874 - loss: 0.7709 - val_accuracy: 0.6822 - val_loss: 1.1318\n",
      "Epoch 19/50\n",
      "\u001b[1m310/310\u001b[0m \u001b[32m━━━━━━━━━━━━━━━━━━━━\u001b[0m\u001b[37m\u001b[0m \u001b[1m1s\u001b[0m 5ms/step - accuracy: 0.7308 - loss: 0.6758 - val_accuracy: 0.6769 - val_loss: 1.1245\n",
      "Epoch 20/50\n",
      "\u001b[1m310/310\u001b[0m \u001b[32m━━━━━━━━━━━━━━━━━━━━\u001b[0m\u001b[37m\u001b[0m \u001b[1m1s\u001b[0m 5ms/step - accuracy: 0.6977 - loss: 0.7512 - val_accuracy: 0.6680 - val_loss: 1.1641\n",
      "Epoch 21/50\n",
      "\u001b[1m310/310\u001b[0m \u001b[32m━━━━━━━━━━━━━━━━━━━━\u001b[0m\u001b[37m\u001b[0m \u001b[1m1s\u001b[0m 5ms/step - accuracy: 0.6994 - loss: 0.7480 - val_accuracy: 0.6894 - val_loss: 1.0878\n",
      "Epoch 22/50\n",
      "\u001b[1m310/310\u001b[0m \u001b[32m━━━━━━━━━━━━━━━━━━━━\u001b[0m\u001b[37m\u001b[0m \u001b[1m1s\u001b[0m 4ms/step - accuracy: 0.7410 - loss: 0.6193 - val_accuracy: 0.6935 - val_loss: 1.1441\n",
      "Epoch 23/50\n",
      "\u001b[1m310/310\u001b[0m \u001b[32m━━━━━━━━━━━━━━━━━━━━\u001b[0m\u001b[37m\u001b[0m \u001b[1m1s\u001b[0m 4ms/step - accuracy: 0.7662 - loss: 0.5660 - val_accuracy: 0.6903 - val_loss: 1.1317\n",
      "Epoch 24/50\n",
      "\u001b[1m310/310\u001b[0m \u001b[32m━━━━━━━━━━━━━━━━━━━━\u001b[0m\u001b[37m\u001b[0m \u001b[1m1s\u001b[0m 5ms/step - accuracy: 0.7633 - loss: 0.5750 - val_accuracy: 0.6907 - val_loss: 1.1924\n",
      "Epoch 25/50\n",
      "\u001b[1m310/310\u001b[0m \u001b[32m━━━━━━━━━━━━━━━━━━━━\u001b[0m\u001b[37m\u001b[0m \u001b[1m1s\u001b[0m 4ms/step - accuracy: 0.7803 - loss: 0.5424 - val_accuracy: 0.6874 - val_loss: 1.2375\n",
      "Epoch 26/50\n",
      "\u001b[1m310/310\u001b[0m \u001b[32m━━━━━━━━━━━━━━━━━━━━\u001b[0m\u001b[37m\u001b[0m \u001b[1m1s\u001b[0m 5ms/step - accuracy: 0.5688 - loss: 1.1146 - val_accuracy: 0.6696 - val_loss: 1.5809\n",
      "Epoch 27/50\n",
      "\u001b[1m310/310\u001b[0m \u001b[32m━━━━━━━━━━━━━━━━━━━━\u001b[0m\u001b[37m\u001b[0m \u001b[1m1s\u001b[0m 5ms/step - accuracy: 0.6379 - loss: 0.9143 - val_accuracy: 0.6830 - val_loss: 2.2167\n",
      "Epoch 28/50\n",
      "\u001b[1m310/310\u001b[0m \u001b[32m━━━━━━━━━━━━━━━━━━━━\u001b[0m\u001b[37m\u001b[0m \u001b[1m1s\u001b[0m 5ms/step - accuracy: 0.7158 - loss: 0.7204 - val_accuracy: 0.6911 - val_loss: 1.5484\n",
      "Epoch 29/50\n",
      "\u001b[1m310/310\u001b[0m \u001b[32m━━━━━━━━━━━━━━━━━━━━\u001b[0m\u001b[37m\u001b[0m \u001b[1m1s\u001b[0m 4ms/step - accuracy: 0.7222 - loss: 0.6740 - val_accuracy: 0.6878 - val_loss: 1.4358\n",
      "Epoch 30/50\n",
      "\u001b[1m310/310\u001b[0m \u001b[32m━━━━━━━━━━━━━━━━━━━━\u001b[0m\u001b[37m\u001b[0m \u001b[1m1s\u001b[0m 4ms/step - accuracy: 0.7199 - loss: 0.7034 - val_accuracy: 0.6789 - val_loss: 1.4150\n",
      "Epoch 31/50\n",
      "\u001b[1m310/310\u001b[0m \u001b[32m━━━━━━━━━━━━━━━━━━━━\u001b[0m\u001b[37m\u001b[0m \u001b[1m1s\u001b[0m 4ms/step - accuracy: 0.7638 - loss: 0.5769 - val_accuracy: 0.6842 - val_loss: 1.4372\n",
      "Epoch 32/50\n",
      "\u001b[1m310/310\u001b[0m \u001b[32m━━━━━━━━━━━━━━━━━━━━\u001b[0m\u001b[37m\u001b[0m \u001b[1m1s\u001b[0m 4ms/step - accuracy: 0.6820 - loss: 0.7982 - val_accuracy: 0.6757 - val_loss: 1.5138\n",
      "Epoch 33/50\n",
      "\u001b[1m310/310\u001b[0m \u001b[32m━━━━━━━━━━━━━━━━━━━━\u001b[0m\u001b[37m\u001b[0m \u001b[1m1s\u001b[0m 4ms/step - accuracy: 0.7465 - loss: 0.6234 - val_accuracy: 0.6793 - val_loss: 1.6239\n",
      "Epoch 34/50\n",
      "\u001b[1m310/310\u001b[0m \u001b[32m━━━━━━━━━━━━━━━━━━━━\u001b[0m\u001b[37m\u001b[0m \u001b[1m1s\u001b[0m 4ms/step - accuracy: 0.7773 - loss: 0.5492 - val_accuracy: 0.6640 - val_loss: 1.8562\n",
      "Epoch 35/50\n",
      "\u001b[1m310/310\u001b[0m \u001b[32m━━━━━━━━━━━━━━━━━━━━\u001b[0m\u001b[37m\u001b[0m \u001b[1m1s\u001b[0m 5ms/step - accuracy: 0.4992 - loss: 1.3296 - val_accuracy: 0.6163 - val_loss: 3.2878\n",
      "Epoch 36/50\n",
      "\u001b[1m310/310\u001b[0m \u001b[32m━━━━━━━━━━━━━━━━━━━━\u001b[0m\u001b[37m\u001b[0m \u001b[1m1s\u001b[0m 4ms/step - accuracy: 0.6098 - loss: 1.0107 - val_accuracy: 0.6607 - val_loss: 3.0896\n",
      "Epoch 37/50\n",
      "\u001b[1m310/310\u001b[0m \u001b[32m━━━━━━━━━━━━━━━━━━━━\u001b[0m\u001b[37m\u001b[0m \u001b[1m1s\u001b[0m 4ms/step - accuracy: 0.7203 - loss: 0.6985 - val_accuracy: 0.6834 - val_loss: 2.5744\n",
      "Epoch 38/50\n",
      "\u001b[1m310/310\u001b[0m \u001b[32m━━━━━━━━━━━━━━━━━━━━\u001b[0m\u001b[37m\u001b[0m \u001b[1m1s\u001b[0m 4ms/step - accuracy: 0.7031 - loss: 0.7417 - val_accuracy: 0.6721 - val_loss: 2.4793\n",
      "Epoch 39/50\n",
      "\u001b[1m310/310\u001b[0m \u001b[32m━━━━━━━━━━━━━━━━━━━━\u001b[0m\u001b[37m\u001b[0m \u001b[1m1s\u001b[0m 4ms/step - accuracy: 0.6936 - loss: 0.7598 - val_accuracy: 0.6757 - val_loss: 2.0804\n",
      "Epoch 40/50\n",
      "\u001b[1m310/310\u001b[0m \u001b[32m━━━━━━━━━━━━━━━━━━━━\u001b[0m\u001b[37m\u001b[0m \u001b[1m1s\u001b[0m 5ms/step - accuracy: 0.7198 - loss: 0.7155 - val_accuracy: 0.6870 - val_loss: 1.9452\n",
      "Epoch 41/50\n",
      "\u001b[1m310/310\u001b[0m \u001b[32m━━━━━━━━━━━━━━━━━━━━\u001b[0m\u001b[37m\u001b[0m \u001b[1m1s\u001b[0m 5ms/step - accuracy: 0.7689 - loss: 0.5548 - val_accuracy: 0.6846 - val_loss: 1.8953\n",
      "Epoch 42/50\n",
      "\u001b[1m310/310\u001b[0m \u001b[32m━━━━━━━━━━━━━━━━━━━━\u001b[0m\u001b[37m\u001b[0m \u001b[1m2s\u001b[0m 5ms/step - accuracy: 0.7746 - loss: 0.5562 - val_accuracy: 0.6899 - val_loss: 1.9840\n",
      "Epoch 43/50\n",
      "\u001b[1m310/310\u001b[0m \u001b[32m━━━━━━━━━━━━━━━━━━━━\u001b[0m\u001b[37m\u001b[0m \u001b[1m1s\u001b[0m 5ms/step - accuracy: 0.6865 - loss: 0.8027 - val_accuracy: 0.6830 - val_loss: 2.3300\n",
      "Epoch 44/50\n",
      "\u001b[1m310/310\u001b[0m \u001b[32m━━━━━━━━━━━━━━━━━━━━\u001b[0m\u001b[37m\u001b[0m \u001b[1m1s\u001b[0m 5ms/step - accuracy: 0.7733 - loss: 0.5556 - val_accuracy: 0.6882 - val_loss: 1.9337\n",
      "Epoch 45/50\n",
      "\u001b[1m310/310\u001b[0m \u001b[32m━━━━━━━━━━━━━━━━━━━━\u001b[0m\u001b[37m\u001b[0m \u001b[1m1s\u001b[0m 5ms/step - accuracy: 0.6704 - loss: 0.8498 - val_accuracy: 0.6717 - val_loss: 2.0004\n",
      "Epoch 46/50\n",
      "\u001b[1m310/310\u001b[0m \u001b[32m━━━━━━━━━━━━━━━━━━━━\u001b[0m\u001b[37m\u001b[0m \u001b[1m1s\u001b[0m 4ms/step - accuracy: 0.5493 - loss: 1.1793 - val_accuracy: 0.6526 - val_loss: 2.1869\n",
      "Epoch 47/50\n",
      "\u001b[1m310/310\u001b[0m \u001b[32m━━━━━━━━━━━━━━━━━━━━\u001b[0m\u001b[37m\u001b[0m \u001b[1m1s\u001b[0m 4ms/step - accuracy: 0.6560 - loss: 0.8549 - val_accuracy: 0.6765 - val_loss: 1.8482\n",
      "Epoch 48/50\n",
      "\u001b[1m310/310\u001b[0m \u001b[32m━━━━━━━━━━━━━━━━━━━━\u001b[0m\u001b[37m\u001b[0m \u001b[1m1s\u001b[0m 4ms/step - accuracy: 0.7573 - loss: 0.6022 - val_accuracy: 0.6721 - val_loss: 1.9560\n",
      "Epoch 49/50\n",
      "\u001b[1m310/310\u001b[0m \u001b[32m━━━━━━━━━━━━━━━━━━━━\u001b[0m\u001b[37m\u001b[0m \u001b[1m1s\u001b[0m 5ms/step - accuracy: 0.7713 - loss: 0.5476 - val_accuracy: 0.6834 - val_loss: 1.9232\n",
      "Epoch 50/50\n",
      "\u001b[1m310/310\u001b[0m \u001b[32m━━━━━━━━━━━━━━━━━━━━\u001b[0m\u001b[37m\u001b[0m \u001b[1m1s\u001b[0m 4ms/step - accuracy: 0.7890 - loss: 0.5256 - val_accuracy: 0.6915 - val_loss: 2.1083\n"
     ]
    }
   ],
   "source": [
    "history = cnn.fit(x_train, y_train, epochs=50, batch_size=32, validation_split=0.2)"
   ]
  },
  {
   "cell_type": "code",
   "execution_count": 23,
   "id": "ba33e781",
   "metadata": {
    "execution": {
     "iopub.execute_input": "2024-05-25T08:42:54.088999Z",
     "iopub.status.busy": "2024-05-25T08:42:54.088645Z",
     "iopub.status.idle": "2024-05-25T08:42:55.082629Z",
     "shell.execute_reply": "2024-05-25T08:42:55.081827Z"
    },
    "papermill": {
     "duration": 1.165238,
     "end_time": "2024-05-25T08:42:55.084560",
     "exception": false,
     "start_time": "2024-05-25T08:42:53.919322",
     "status": "completed"
    },
    "tags": []
   },
   "outputs": [
    {
     "name": "stdout",
     "output_type": "stream",
     "text": [
      "\u001b[1m82/97\u001b[0m \u001b[32m━━━━━━━━━━━━━━━━\u001b[0m\u001b[37m━━━━\u001b[0m \u001b[1m0s\u001b[0m 2ms/step - accuracy: 0.7076 - loss: 0.8610"
     ]
    },
    {
     "name": "stderr",
     "output_type": "stream",
     "text": [
      "2024-05-25 08:42:54.550394: E external/local_xla/xla/service/gpu/buffer_comparator.cc:1137] Difference at 0: 2.93965, expected 2.43046\n",
      "2024-05-25 08:42:54.550466: E external/local_xla/xla/service/gpu/buffer_comparator.cc:1137] Difference at 1: 3.49797, expected 2.98878\n",
      "2024-05-25 08:42:54.550496: E external/local_xla/xla/service/gpu/buffer_comparator.cc:1137] Difference at 2: 2.8939, expected 2.38471\n",
      "2024-05-25 08:42:54.550512: E external/local_xla/xla/service/gpu/buffer_comparator.cc:1137] Difference at 3: 2.17464, expected 1.66545\n",
      "2024-05-25 08:42:54.550524: E external/local_xla/xla/service/gpu/buffer_comparator.cc:1137] Difference at 4: 2.73179, expected 2.2226\n",
      "2024-05-25 08:42:54.550534: E external/local_xla/xla/service/gpu/buffer_comparator.cc:1137] Difference at 5: 3.26928, expected 2.76009\n",
      "2024-05-25 08:42:54.550548: E external/local_xla/xla/service/gpu/buffer_comparator.cc:1137] Difference at 6: 2.66209, expected 2.1529\n",
      "2024-05-25 08:42:54.550560: E external/local_xla/xla/service/gpu/buffer_comparator.cc:1137] Difference at 7: 3.01374, expected 2.50455\n",
      "2024-05-25 08:42:54.550571: E external/local_xla/xla/service/gpu/buffer_comparator.cc:1137] Difference at 8: 1.97084, expected 1.46165\n",
      "2024-05-25 08:42:54.550583: E external/local_xla/xla/service/gpu/buffer_comparator.cc:1137] Difference at 9: 1.73248, expected 1.22329\n",
      "2024-05-25 08:42:54.550607: E external/local_xla/xla/service/gpu/conv_algorithm_picker.cc:705] Results mismatch between different convolution algorithms. This is likely a bug/unexpected loss of precision in cudnn.\n",
      "(f32[19,32,62,62]{3,2,1,0}, u8[0]{0}) custom-call(f32[19,1,64,64]{3,2,1,0}, f32[32,1,3,3]{3,2,1,0}, f32[32]{0}), window={size=3x3}, dim_labels=bf01_oi01->bf01, custom_call_target=\"__cudnn$convBiasActivationForward\", backend_config={\"conv_result_scale\":1,\"activation_mode\":\"kRelu\",\"side_input_scale\":0,\"leakyrelu_alpha\":0} for eng20{k2=2,k4=1,k5=1,k6=0,k7=0} vs eng15{k5=1,k6=0,k7=1,k10=1}\n",
      "2024-05-25 08:42:54.550619: E external/local_xla/xla/service/gpu/conv_algorithm_picker.cc:270] Device: Tesla P100-PCIE-16GB\n",
      "2024-05-25 08:42:54.550631: E external/local_xla/xla/service/gpu/conv_algorithm_picker.cc:271] Platform: Compute Capability 6.0\n",
      "2024-05-25 08:42:54.550642: E external/local_xla/xla/service/gpu/conv_algorithm_picker.cc:272] Driver: 12020 (535.129.3)\n",
      "2024-05-25 08:42:54.550653: E external/local_xla/xla/service/gpu/conv_algorithm_picker.cc:273] Runtime: <undefined>\n",
      "2024-05-25 08:42:54.550670: E external/local_xla/xla/service/gpu/conv_algorithm_picker.cc:280] cudnn version: 8.9.0\n",
      "2024-05-25 08:42:54.582790: E external/local_xla/xla/service/gpu/buffer_comparator.cc:1137] Difference at 0: 2.93965, expected 2.43046\n",
      "2024-05-25 08:42:54.582857: E external/local_xla/xla/service/gpu/buffer_comparator.cc:1137] Difference at 1: 3.49797, expected 2.98878\n",
      "2024-05-25 08:42:54.582866: E external/local_xla/xla/service/gpu/buffer_comparator.cc:1137] Difference at 2: 2.8939, expected 2.38471\n",
      "2024-05-25 08:42:54.582873: E external/local_xla/xla/service/gpu/buffer_comparator.cc:1137] Difference at 3: 2.17464, expected 1.66545\n",
      "2024-05-25 08:42:54.582881: E external/local_xla/xla/service/gpu/buffer_comparator.cc:1137] Difference at 4: 2.73179, expected 2.2226\n",
      "2024-05-25 08:42:54.582889: E external/local_xla/xla/service/gpu/buffer_comparator.cc:1137] Difference at 5: 3.26928, expected 2.76009\n",
      "2024-05-25 08:42:54.582897: E external/local_xla/xla/service/gpu/buffer_comparator.cc:1137] Difference at 6: 2.66209, expected 2.1529\n",
      "2024-05-25 08:42:54.582904: E external/local_xla/xla/service/gpu/buffer_comparator.cc:1137] Difference at 7: 3.01374, expected 2.50455\n",
      "2024-05-25 08:42:54.582912: E external/local_xla/xla/service/gpu/buffer_comparator.cc:1137] Difference at 8: 1.97084, expected 1.46165\n",
      "2024-05-25 08:42:54.582920: E external/local_xla/xla/service/gpu/buffer_comparator.cc:1137] Difference at 9: 1.73248, expected 1.22329\n",
      "2024-05-25 08:42:54.582940: E external/local_xla/xla/service/gpu/conv_algorithm_picker.cc:705] Results mismatch between different convolution algorithms. This is likely a bug/unexpected loss of precision in cudnn.\n",
      "(f32[19,32,62,62]{3,2,1,0}, u8[0]{0}) custom-call(f32[19,1,64,64]{3,2,1,0}, f32[32,1,3,3]{3,2,1,0}, f32[32]{0}), window={size=3x3}, dim_labels=bf01_oi01->bf01, custom_call_target=\"__cudnn$convBiasActivationForward\", backend_config={\"conv_result_scale\":1,\"activation_mode\":\"kRelu\",\"side_input_scale\":0,\"leakyrelu_alpha\":0} for eng20{k2=2,k4=1,k5=1,k6=0,k7=0} vs eng15{k5=1,k6=0,k7=1,k10=1}\n",
      "2024-05-25 08:42:54.582949: E external/local_xla/xla/service/gpu/conv_algorithm_picker.cc:270] Device: Tesla P100-PCIE-16GB\n",
      "2024-05-25 08:42:54.582956: E external/local_xla/xla/service/gpu/conv_algorithm_picker.cc:271] Platform: Compute Capability 6.0\n",
      "2024-05-25 08:42:54.582963: E external/local_xla/xla/service/gpu/conv_algorithm_picker.cc:272] Driver: 12020 (535.129.3)\n",
      "2024-05-25 08:42:54.582970: E external/local_xla/xla/service/gpu/conv_algorithm_picker.cc:273] Runtime: <undefined>\n",
      "2024-05-25 08:42:54.582997: E external/local_xla/xla/service/gpu/conv_algorithm_picker.cc:280] cudnn version: 8.9.0\n"
     ]
    },
    {
     "name": "stdout",
     "output_type": "stream",
     "text": [
      "\u001b[1m97/97\u001b[0m \u001b[32m━━━━━━━━━━━━━━━━━━━━\u001b[0m\u001b[37m\u001b[0m \u001b[1m1s\u001b[0m 8ms/step - accuracy: 0.7081 - loss: 0.8995\n"
     ]
    }
   ],
   "source": [
    "test_loss, test_acc = cnn.evaluate(x_test, y_test)"
   ]
  },
  {
   "cell_type": "code",
   "execution_count": 24,
   "id": "27e7ff84",
   "metadata": {
    "execution": {
     "iopub.execute_input": "2024-05-25T08:42:55.419970Z",
     "iopub.status.busy": "2024-05-25T08:42:55.419006Z",
     "iopub.status.idle": "2024-05-25T08:42:55.812232Z",
     "shell.execute_reply": "2024-05-25T08:42:55.811196Z"
    },
    "papermill": {
     "duration": 0.563408,
     "end_time": "2024-05-25T08:42:55.814240",
     "exception": false,
     "start_time": "2024-05-25T08:42:55.250832",
     "status": "completed"
    },
    "tags": []
   },
   "outputs": [
    {
     "name": "stdout",
     "output_type": "stream",
     "text": [
      "\u001b[1m97/97\u001b[0m \u001b[32m━━━━━━━━━━━━━━━━━━━━\u001b[0m\u001b[37m\u001b[0m \u001b[1m0s\u001b[0m 2ms/step - accuracy: 0.7081 - loss: 0.8995\n",
      "Test accuracy: 0.7085085511207581\n"
     ]
    }
   ],
   "source": [
    "test_loss, test_acc = cnn.evaluate(x_test, y_test)\n",
    "print(f'Test accuracy: {test_acc}')"
   ]
  },
  {
   "cell_type": "code",
   "execution_count": 25,
   "id": "09443fca",
   "metadata": {
    "execution": {
     "iopub.execute_input": "2024-05-25T08:42:56.152179Z",
     "iopub.status.busy": "2024-05-25T08:42:56.151068Z",
     "iopub.status.idle": "2024-05-25T08:42:56.697848Z",
     "shell.execute_reply": "2024-05-25T08:42:56.696868Z"
    },
    "papermill": {
     "duration": 0.71798,
     "end_time": "2024-05-25T08:42:56.700521",
     "exception": false,
     "start_time": "2024-05-25T08:42:55.982541",
     "status": "completed"
    },
    "tags": []
   },
   "outputs": [
    {
     "data": {
      "image/png": "[encoded data removed]",
      "text/plain": [
       "<Figure size 1200x400 with 2 Axes>"
      ]
     },
     "metadata": {},
     "output_type": "display_data"
    }
   ],
   "source": [
    "import matplotlib.pyplot as plt\n",
    "\n",
    "# Plot training & validation accuracy values\n",
    "plt.figure(figsize=(12, 4))\n",
    "plt.subplot(1, 2, 1)\n",
    "plt.plot(history.history['accuracy'])\n",
    "plt.plot(history.history['val_accuracy'])\n",
    "plt.title('Model accuracy')\n",
    "plt.xlabel('Epoch')\n",
    "plt.ylabel('Accuracy')\n",
    "plt.legend(['Train', 'Validation'], loc='upper left')\n",
    "\n",
    "# Plot training & validation loss values\n",
    "plt.subplot(1, 2, 2)\n",
    "plt.plot(history.history['loss'])\n",
    "plt.plot(history.history['val_loss'])\n",
    "plt.title('Model loss')\n",
    "plt.xlabel('Epoch')\n",
    "plt.ylabel('Loss')\n",
    "plt.legend(['Train', 'Validation'], loc='upper left')\n",
    "\n",
    "plt.show()"
   ]
  },
  {
   "cell_type": "code",
   "execution_count": 26,
   "id": "ca161a7a",
   "metadata": {
    "execution": {
     "iopub.execute_input": "2024-05-25T08:42:57.040300Z",
     "iopub.status.busy": "2024-05-25T08:42:57.039361Z",
     "iopub.status.idle": "2024-05-25T08:42:57.513238Z",
     "shell.execute_reply": "2024-05-25T08:42:57.512308Z"
    },
    "papermill": {
     "duration": 0.646478,
     "end_time": "2024-05-25T08:42:57.515150",
     "exception": false,
     "start_time": "2024-05-25T08:42:56.868672",
     "status": "completed"
    },
    "tags": []
   },
   "outputs": [
    {
     "name": "stdout",
     "output_type": "stream",
     "text": [
      "\u001b[1m1/1\u001b[0m \u001b[32m━━━━━━━━━━━━━━━━━━━━\u001b[0m\u001b[37m\u001b[0m \u001b[1m0s\u001b[0m 413ms/step\n",
      "The predicted emotion is: Happy\n"
     ]
    }
   ],
   "source": [
    "import cv2\n",
    "import numpy as np\n",
    "\n",
    "def load_and_preprocess_image(image_path):\n",
    "    # Load the image in grayscale\n",
    "    image = cv2.imread(image_path, cv2.IMREAD_GRAYSCALE)\n",
    "    # Resize the image to 48x48 pixels\n",
    "    image = cv2.resize(image, (64, 64))\n",
    "    # Normalize the image\n",
    "    image = image / 255.0\n",
    "    # Reshape the image to match the model input shape (1, 48, 48, 1)\n",
    "    image = image.reshape(1, 64, 64, 1)\n",
    "    return image\n",
    "\n",
    "def predict_emotion(image_path):\n",
    "    # Load and preprocess the image\n",
    "    image = load_and_preprocess_image(image_path)\n",
    "    # Predict the emotion\n",
    "    predictions = cnn.predict(image)\n",
    "    # Get the index of the highest probability\n",
    "    predicted_index = np.argmax(predictions)\n",
    "    # Get the corresponding emotion label\n",
    "    predicted_emotion = categories[predicted_index]\n",
    "    return predicted_emotion\n",
    "\n",
    "# Path to the specific image\n",
    "image_path = '/kaggle/input/emotion-recognition-dataset/dataset/Ahegao/cropped_emotions.16023~ahegao.png'\n",
    "\n",
    "# Predict the emotion\n",
    "predicted_emotion = predict_emotion(image_path)\n",
    "print(f'The predicted emotion is: {predicted_emotion}')"
   ]
  },
  {
   "cell_type": "code",
   "execution_count": null,
   "id": "ecea3811",
   "metadata": {
    "papermill": {
     "duration": 0.171903,
     "end_time": "2024-05-25T08:42:57.856974",
     "exception": false,
     "start_time": "2024-05-25T08:42:57.685071",
     "status": "completed"
    },
    "tags": []
   },
   "outputs": [],
   "source": []
  }
 ],
 "metadata": {
  "kaggle": {
   "accelerator": "gpu",
   "dataSources": [
    {
     "datasetId": 4123094,
     "sourceId": 7143293,
     "sourceType": "datasetVersion"
    }
   ],
   "dockerImageVersionId": 30699,
   "isGpuEnabled": true,
   "isInternetEnabled": true,
   "language": "python",
   "sourceType": "notebook"
  },
  "kernelspec": {
   "display_name": "Python 3",
   "language": "python",
   "name": "python3"
  },
  "language_info": {
   "codemirror_mode": {
    "name": "ipython",
    "version": 3
   },
   "file_extension": ".py",
   "mimetype": "text/x-python",
   "name": "python",
   "nbconvert_exporter": "python",
   "pygments_lexer": "ipython3",
   "version": "3.10.13"
  },
  "papermill": {
   "default_parameters": {},
   "duration": 287.336609,
   "end_time": "2024-05-25T08:43:00.832269",
   "environment_variables": {},
   "exception": null,
   "input_path": "__notebook__.ipynb",
   "output_path": "__notebook__.ipynb",
   "parameters": {},
   "start_time": "2024-05-25T08:38:13.495660",
   "version": "2.5.0"
  }
 },
 "nbformat": 4,
 "nbformat_minor": 5
}
